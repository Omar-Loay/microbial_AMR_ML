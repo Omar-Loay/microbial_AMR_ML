{
 "cells": [
  {
   "cell_type": "code",
   "execution_count": 2,
   "metadata": {
    "collapsed": true
   },
   "outputs": [],
   "source": [
    "import pandas as pd\n",
    "import numpy as np\n",
    "import matplotlib.pyplot as plt\n",
    "from tqdm import tqdm\n",
    "import os\n",
    "import subprocess\n",
    "from collections import Counter\n",
    "# import cartopy.crs as ccrs\n",
    "import seaborn as sns\n",
    "import matplotlib as mpl\n",
    "from scipy import stats"
   ]
  },
  {
   "cell_type": "markdown",
   "metadata": {},
   "source": [
    "# Pangenome Plot"
   ]
  },
  {
   "cell_type": "code",
   "execution_count": 3,
   "metadata": {
    "collapsed": true
   },
   "outputs": [],
   "source": [
    "# result_gene_vs_genome_frame_add = pd.read_csv('../Dataframes/final_steps_ortho_data.csv',dtype={\"Unnamed: 0\": object})\n",
    "# result_gene_vs_genome_frame_add[\"Unnamed: 0\"] = result_gene_vs_genome_frame_add[\"Unnamed: 0\"].astype(str)\n",
    "# result_gene_vs_genome_frame_add = result_gene_vs_genome_frame_add.set_index(\"Unnamed: 0\")\n",
    "\n",
    "result_gene_vs_genome_frame_add = pd.read_csv('../../Dataframes/tb_clust_matrix.csv',dtype={\"Unnamed: 0\": object})\n",
    "result_gene_vs_genome_frame_add[\"Unnamed: 0\"] = result_gene_vs_genome_frame_add[\"Unnamed: 0\"].astype(str)\n",
    "result_gene_vs_genome_frame_add = result_gene_vs_genome_frame_add.set_index(\"Unnamed: 0\")"
   ]
  },
  {
   "cell_type": "code",
   "execution_count": 4,
   "metadata": {},
   "outputs": [
    {
     "data": {
      "text/plain": [
       "(1595, 11039)"
      ]
     },
     "execution_count": 4,
     "metadata": {},
     "output_type": "execute_result"
    }
   ],
   "source": [
    "result_gene_vs_genome_frame_add.shape"
   ]
  },
  {
   "cell_type": "markdown",
   "metadata": {},
   "source": [
    "Based on the heaps law calculation for the PE-PGRS proteins, we may be able to estimate a better distribution of what hte true pan-genome distributino is for TB. Towards this goal, Jon's work on getting better reads such as long and short reads would provide a more comprehensive determinination of a pan-genome's \"openness\""
   ]
  },
  {
   "cell_type": "markdown",
   "metadata": {},
   "source": [
    "## Randomly rearrange index and calculate the three lines -- repeat >2000 times and average each list"
   ]
  },
  {
   "cell_type": "code",
   "execution_count": 3,
   "metadata": {
    "collapsed": true
   },
   "outputs": [],
   "source": [
    "# outlier_df = result_gene_vs_genome_frame_add.ix[[\"1324261.3\", \"1304279.3\", \"1310114.3\", \"1091501.3\", \"1091500.5\"], :]\n",
    "# result_gene_vs_genome_frame_add.drop([\"1324261.3\", \"1304279.3\", \"1310114.3\", \"1091501.3\", \"1091500.5\"], axis=0, inplace=True)\n",
    "# outlier_df = result_gene_vs_genome_frame_add.copy()"
   ]
  },
  {
   "cell_type": "code",
   "execution_count": 4,
   "metadata": {},
   "outputs": [
    {
     "name": "stdout",
     "output_type": "stream",
     "text": [
      "3776\n"
     ]
    }
   ],
   "source": [
    "col_list_drop = []\n",
    "result_gvg_drop_frame = result_gene_vs_genome_frame_add.copy()\n",
    "for col in result_gene_vs_genome_frame_add.columns:\n",
    "    if result_gene_vs_genome_frame_add[col].sum() < 2:\n",
    "        col_list_drop.append(col)\n",
    "result_gvg_drop_frame.drop(col_list_drop,axis=1, inplace=True)\n",
    "# result_gene_vs_genome_frame_add.drop(col_list_drop,axis=1, inplace=True)\n",
    "print len(col_list_drop)"
   ]
  },
  {
   "cell_type": "code",
   "execution_count": 5,
   "metadata": {
    "collapsed": true
   },
   "outputs": [],
   "source": [
    "def calc_pangenome_curves(pangenome_df):\n",
    "    x_axis = range(len(pangenome_df.index))\n",
    "    clust_list = set()\n",
    "    core_list = set()\n",
    "    y_cluster_count = []\n",
    "    y_core_count = []\n",
    "    count = 0\n",
    "    for strain_id, row in pangenome_df.iterrows():\n",
    "        count = count + 1\n",
    "        if count == 1:\n",
    "            core_list = set(list(row[row!=0].index))\n",
    "            # y_core_count.append(len(core_list))\n",
    "        else:\n",
    "            # -- Calculate core-genome curve - those found in every strain.\n",
    "            core_list = core_list.intersection(set(list(row[row!=0].index)))\n",
    "\n",
    "        y_core_count.append(len(core_list))\n",
    "        \n",
    "\n",
    "        # -- Calculate pan-genome curve - \"increasing num of clusters\"\n",
    "        clust_list.update(list(row[row!=0].index))\n",
    "        y_cluster_count.append(len(clust_list))\n",
    "\n",
    "    # -- Calculate unique gene curve - \"number of new genes added\"\n",
    "    y_new_genes_count = [y_cluster_count[0]] # initialize to first genome count.\n",
    "    for x in x_axis[1:]:\n",
    "        y_new_genes_count.append(y_cluster_count[x] - y_cluster_count[x-1])\n",
    "        \n",
    "    return y_cluster_count, y_core_count, y_new_genes_count"
   ]
  },
  {
   "cell_type": "code",
   "execution_count": 6,
   "metadata": {
    "collapsed": true
   },
   "outputs": [],
   "source": [
    "def calc_pangen_curv_lit_sampler(pangen_df):\n",
    "    \"\"\"\n",
    "    This method is the same as that used in http://www.pnas.org/content/102/39/13950.full#F2\n",
    "    Also look at file:///home/erol/Downloads/TettelinPANGENOME.pdf\n",
    "    \n",
    "    -   The number of genes shared by all GBS isolates and the number of strain-specific genes \n",
    "        depend on how many strains are taken into account. The sequential inclusion of up to \n",
    "        eight strains was simulated in all possible combinations. The number (N) of independent \n",
    "        measurements of the shared (see Fig. 2) and strain-specific genes (see Fig. 3) present in\n",
    "        the nth genome is N = 8!/[(n – 1)!·(8 – n)!].\n",
    "    \n",
    "    For each n, circles are the 8!/[(n-1)! * (8-n)!] obtained for different strain combinations.\n",
    "    \"\"\"\n",
    "    "
   ]
  },
  {
   "cell_type": "code",
   "execution_count": 7,
   "metadata": {},
   "outputs": [
    {
     "name": "stderr",
     "output_type": "stream",
     "text": [
      "100%|██████████| 1000/1000 [42:02<00:00,  2.53s/it]\n"
     ]
    }
   ],
   "source": [
    "y_clst_num = []\n",
    "y_core_num = []\n",
    "y_uniq_num = []\n",
    "for x in tqdm(range(1000)):\n",
    "    # loop_df = pd.concat([outlier_df, result_gene_vs_genome_frame_add.sample(frac=1).reset_index(drop=True)])\n",
    "    loop_df = result_gene_vs_genome_frame_add.sample(frac=1).reset_index(drop=True)\n",
    "    # loop_df = result_gvg_drop_frame.sample(frac=1).reset_index(drop=True)\n",
    "    # print loop_df.ix[0, \"\"]\n",
    "    y_clst, y_core, y_new = calc_pangenome_curves( loop_df )\n",
    "    y_clst_num.append(y_clst)\n",
    "    y_core_num.append(y_core)\n",
    "    y_uniq_num.append(y_new)"
   ]
  },
  {
   "cell_type": "code",
   "execution_count": 8,
   "metadata": {
    "collapsed": true
   },
   "outputs": [],
   "source": [
    "y_clst_avg = [float(sum(col))/len(col) for col in zip(*y_clst_num)]\n",
    "y_core_avg = [float(sum(col))/len(col) for col in zip(*y_core_num)]\n",
    "y_uniq_avg = [float(sum(col))/len(col) for col in zip(*y_uniq_num)]\n",
    "\n",
    "y_clst_median = np.median(np.array(y_clst_num),axis=0)\n",
    "y_clst_error = stats.sem(np.array(y_clst_num))\n",
    "\n",
    "y_core_median = np.median(np.array(y_core_num),axis=0)\n",
    "y_core_error = stats.sem(np.array(y_core_num))\n",
    "\n",
    "y_uniq_median = np.median(np.array(y_uniq_num),axis=0)\n",
    "y_uniq_error = stats.sem(np.array(y_uniq_num))"
   ]
  },
  {
   "cell_type": "markdown",
   "metadata": {},
   "source": [
    "### Plot"
   ]
  },
  {
   "cell_type": "code",
   "execution_count": 9,
   "metadata": {},
   "outputs": [
    {
     "name": "stdout",
     "output_type": "stream",
     "text": [
      "[u'seaborn-darkgrid', u'Solarize_Light2', u'seaborn-notebook', u'classic', u'seaborn-ticks', u'grayscale', u'bmh', u'seaborn-talk', u'dark_background', u'ggplot', u'fivethirtyeight', u'_classic_test', u'seaborn-colorblind', u'seaborn-deep', u'seaborn-whitegrid', u'seaborn-bright', u'seaborn-poster', u'seaborn-muted', u'seaborn-paper', u'seaborn-white', u'fast', u'seaborn-pastel', u'seaborn-dark', u'seaborn', u'seaborn-dark-palette']\n"
     ]
    }
   ],
   "source": [
    "%matplotlib inline\n",
    "print(plt.style.available)"
   ]
  },
  {
   "cell_type": "code",
   "execution_count": 10,
   "metadata": {
    "scrolled": false
   },
   "outputs": [
    {
     "data": {
      "text/plain": [
       "<matplotlib.legend.Legend at 0x7efc4d4e7610>"
      ]
     },
     "execution_count": 10,
     "metadata": {},
     "output_type": "execute_result"
    },
    {
     "data": {
      "image/png": "[encoded data removed]",
      "text/plain": [
       "<matplotlib.figure.Figure at 0x7efc4d5649d0>"
      ]
     },
     "metadata": {},
     "output_type": "display_data"
    }
   ],
   "source": [
    "x_axis = range(len(y_clst))\n",
    "plt.style.use('seaborn-white')\n",
    "a5_dims = (9, 6)\n",
    "opacity = 0.3\n",
    "fig, ax = plt.subplots(figsize=a5_dims)\n",
    "ax.spines[\"top\"].set_visible(False)  \n",
    "ax.spines[\"right\"].set_visible(False)  \n",
    "ax.get_xaxis().tick_bottom()  \n",
    "ax.get_yaxis().tick_left() \n",
    "ax.set_xlim(0, 1625)\n",
    "ax.set_ylim(0, 7500)\n",
    "plt.fill_between(x_axis, y_clst_median - y_clst_error , y_clst_median + y_clst_error , color=\"#3F5D7D\")\n",
    "plt.fill_between(x_axis, y_clst_median, y_core_median, color=\"#43a2ca\", alpha=0.2, label = \"\")\n",
    "plt.fill_between(x_axis, y_core_median, y_uniq_median, color=\"#fddbc7\", alpha=0.2, label = \"\")\n",
    "plt.fill_between(x_axis, y_uniq_median, [0]*len(x_axis), color=\"#fddbc7\", alpha=0.2, label = \"\")\n",
    "plt.title(\"Pan-genome curve\")\n",
    "plt.xlabel(\"Strains\")\n",
    "plt.ylabel(\"Clusters\")\n",
    "ax.plot(x_axis, y_clst_median, color=\"#3F5D7D\", label='pan-genome')\n",
    "ax.plot(x_axis, y_core_median, color=\"#de2d26\", label='core genome')\n",
    "ax.plot(x_axis, y_uniq_median, color=\"#31a354\", label='unique genome')\n",
    "plt.ylabel(\"# of pan-genome clusters\")\n",
    "plt.xlabel(\"# of strains\")\n",
    "plt.legend()\n",
    "# plt.savefig(\"../../Figures/MAIN2_pangenome_curve.svg\", format=\"svg\")"
   ]
  },
  {
   "cell_type": "code",
   "execution_count": 11,
   "metadata": {
    "collapsed": true
   },
   "outputs": [
    {
     "data": {
      "text/plain": [
       "[<matplotlib.lines.Line2D at 0x7efc4d3d4a50>]"
      ]
     },
     "execution_count": 11,
     "metadata": {},
     "output_type": "execute_result"
    },
    {
     "data": {
      "image/png": "[encoded data removed]",
      "text/plain": [
       "<matplotlib.figure.Figure at 0x7efc4d45c1d0>"
      ]
     },
     "metadata": {},
     "output_type": "display_data"
    }
   ],
   "source": [
    "# Design aspects\n",
    "x_axis = range(len(y_clst))\n",
    "plt.style.use('seaborn-white')\n",
    "a5_dims = (9, 6)\n",
    "opacity = 0.3\n",
    "fig, ax = plt.subplots(figsize=a5_dims)\n",
    "ax.spines[\"top\"].set_visible(False)  \n",
    "ax.spines[\"right\"].set_visible(False)  \n",
    "ax.get_xaxis().tick_bottom()  \n",
    "ax.get_yaxis().tick_left() \n",
    "ax.set_xlim(0, 1625)\n",
    "ax.set_ylim(0, 7500)\n",
    "plt.fill_between(x_axis, y_clst_avg - y_clst_error , y_clst_avg + y_clst_error , color=\"#3F5D7D\")\n",
    "plt.fill_between(x_axis, y_clst_avg, y_core_avg, color=\"#43a2ca\", alpha=0.2, label = \"\")\n",
    "plt.fill_between(x_axis, y_core_avg, y_uniq_avg, color=\"#fddbc7\", alpha=0.2, label = \"\")\n",
    "plt.fill_between(x_axis, y_uniq_avg, [0]*len(x_axis), color=\"#fddbc7\", alpha=0.2, label = \"\")\n",
    "plt.title(\"Pan-genome curve - AVERAGE\")\n",
    "ax.plot(x_axis, y_clst_avg, color=\"#3F5D7D\")\n",
    "ax.plot(x_axis, y_core_avg, color=\"#de2d26\")\n",
    "ax.plot(x_axis, y_uniq_avg, color=\"#31a354\")"
   ]
  },
  {
   "cell_type": "markdown",
   "metadata": {},
   "source": [
    "# Other method..."
   ]
  },
  {
   "cell_type": "code",
   "execution_count": 13,
   "metadata": {
    "collapsed": true
   },
   "outputs": [],
   "source": [
    "def calc_pangen_curv_lit_sampler(pangen_df):\n",
    "    \"\"\"\n",
    "    This method is the same as that used in http://www.pnas.org/content/102/39/13950.full#F2\n",
    "    Also look at file:///home/erol/Downloads/TettelinPANGENOME.pdf\n",
    "    \n",
    "    -   The number of genes shared by all GBS isolates and the number of strain-specific genes \n",
    "        depend on how many strains are taken into account. The sequential inclusion of up to \n",
    "        eight strains was simulated in all possible combinations. The number (N) of independent \n",
    "        measurements of the shared (see Fig. 2) and strain-specific genes (see Fig. 3) present in\n",
    "        the nth genome is N = 8!/[(n – 1)!·(8 – n)!].\n",
    "    \n",
    "    For each n, circles are the 8!/[(n-1)! * (8-n)!] obtained for different strain combinations.\n",
    "    \"\"\"\n",
    "    \n",
    "avg_genome_size = 4222"
   ]
  },
  {
   "cell_type": "markdown",
   "metadata": {},
   "source": [
    "# Fit function to Heap's Law\n",
    "\n",
    "$$M = kT^b$$"
   ]
  },
  {
   "cell_type": "code",
   "execution_count": 14,
   "metadata": {
    "collapsed": true
   },
   "outputs": [],
   "source": [
    "from scipy.optimize import curve_fit # uses non-linear least squares to fit a function to data."
   ]
  },
  {
   "cell_type": "code",
   "execution_count": 15,
   "metadata": {
    "collapsed": true
   },
   "outputs": [],
   "source": [
    "x_axis = range(1595)"
   ]
  },
  {
   "cell_type": "code",
   "execution_count": 16,
   "metadata": {
    "scrolled": false
   },
   "outputs": [
    {
     "data": {
      "text/plain": [
       "0.757858283255199"
      ]
     },
     "execution_count": 16,
     "metadata": {},
     "output_type": "execute_result"
    }
   ],
   "source": [
    "def heaps_law(x, K, b):\n",
    "    return K*(x**(-b))\n",
    "\n",
    "def borderline_power_law(K, x):\n",
    "    return K*(x**(-1))\n",
    "\n",
    "def heaps_law_fit(x):\n",
    "    return 4225.65*(x**(-4.646))\n",
    "\n",
    "heaps_law(2, 1, .4)"
   ]
  },
  {
   "cell_type": "code",
   "execution_count": 17,
   "metadata": {
    "collapsed": true
   },
   "outputs": [],
   "source": [
    "# need to move everything to 0\n",
    "x_axis[0] = 0\n",
    "x_axis = [x+1 for x in x_axis]"
   ]
  },
  {
   "cell_type": "code",
   "execution_count": 18,
   "metadata": {
    "scrolled": true
   },
   "outputs": [
    {
     "name": "stdout",
     "output_type": "stream",
     "text": [
      "K =  215.285607939 , b =  0.821114826708\n"
     ]
    }
   ],
   "source": [
    "# popt, pcov = curve_fit(heaps_law, x_axis, y_clst_median)\n",
    "popt, pcov = curve_fit(heaps_law, x_axis[1:], y_uniq_median[1:])\n",
    "print \"K = \", popt[0], \", b = \", popt[1]"
   ]
  },
  {
   "cell_type": "code",
   "execution_count": 19,
   "metadata": {},
   "outputs": [
    {
     "data": {
      "text/plain": [
       "[<matplotlib.lines.Line2D at 0x7efc4d54fbd0>]"
      ]
     },
     "execution_count": 19,
     "metadata": {},
     "output_type": "execute_result"
    },
    {
     "data": {
      "image/png": "[encoded data removed]",
      "text/plain": [
       "<matplotlib.figure.Figure at 0x7efc4d54fc90>"
      ]
     },
     "metadata": {},
     "output_type": "display_data"
    }
   ],
   "source": [
    "plt.plot(x_axis, (1.0/4225)*y_uniq_median, 'b-', label='data')\n",
    "plt.plot(x_axis, (1.0/4225)*heaps_law(x_axis, *popt), 'g--', label='fit-NO-bounds')\n",
    "# plt.plot(x_axis, heaps_law(x_axis, *popt), 'y--', label='fit-with-bounds')\n",
    "# plt.plot(x_axis, heaps_law(x_axis, *np.asarray([1000, 1.1])), 'r--', label='fake-closed-curve')"
   ]
  },
  {
   "cell_type": "code",
   "execution_count": 20,
   "metadata": {
    "collapsed": true
   },
   "outputs": [
    {
     "data": {
      "text/plain": [
       "[<matplotlib.lines.Line2D at 0x7efc4d3b6310>]"
      ]
     },
     "execution_count": 20,
     "metadata": {},
     "output_type": "execute_result"
    },
    {
     "data": {
      "image/png": "[encoded data removed]",
      "text/plain": [
       "<matplotlib.figure.Figure at 0x7efc4d386410>"
      ]
     },
     "metadata": {},
     "output_type": "display_data"
    }
   ],
   "source": [
    "plt.loglog(x_axis[1:], y_clst_median[1:], 'b--', label='median unique genome line')"
   ]
  },
  {
   "cell_type": "code",
   "execution_count": 22,
   "metadata": {
    "scrolled": true
   },
   "outputs": [
    {
     "data": {
      "image/png": "[encoded data removed]",
      "text/plain": [
       "<matplotlib.figure.Figure at 0x7efc4d0b9d90>"
      ]
     },
     "metadata": {},
     "output_type": "display_data"
    }
   ],
   "source": [
    "plt.style.use('seaborn-white')\n",
    "\n",
    "a5_dims = (6, 5)\n",
    "opacity = 0.3\n",
    "fig, ax = plt.subplots(figsize=a5_dims)\n",
    "\n",
    "plt.semilogx(x_axis[1:], (1.0/4225)*y_uniq_median[1:], 'b--', label='median unique genome line')\n",
    "# plt.plot(x_axis[0:], y_uniq_median[0:], 'b--', label='median unique genome line')\n",
    "plt.semilogx(x_axis[1:], (1.0/4225)*heaps_law(x_axis[1:], *popt), 'g--', label='heaps power law fit')\n",
    "# plt.semilogx(x_axis, (1.0/4225)*y_uniq_error, 'r--', label='median unique genome error')\n",
    "#plt.errorbar(x_axis, (1.0/4225)*y_uniq_median, xerr=x_axis, yerr=y_uniq_error)\n",
    "# plt.title(\"Pan-genome\")\n",
    "plt.ylabel(\"Normalized # of new genes discovered (not logarithmic)\")\n",
    "plt.xlabel(\"# of strains added to pan-genome\")\n",
    "plt.legend()\n",
    "plt.savefig(\"../../Figures/SUPP2_heaps_fit.svg\", format=\"svg\")"
   ]
  },
  {
   "cell_type": "code",
   "execution_count": null,
   "metadata": {
    "collapsed": true,
    "scrolled": false
   },
   "outputs": [],
   "source": [
    "plt.loglog(x_axis[1:], y_uniq_median[1:], 'b', label='raw data')\n",
    "plt.loglog(x_axis[1:], heaps_law(x_axis[1:], *popt), 'r', label='Heaps Law')"
   ]
  },
  {
   "cell_type": "code",
   "execution_count": null,
   "metadata": {
    "collapsed": true
   },
   "outputs": [],
   "source": [
    "np.log(1)"
   ]
  },
  {
   "cell_type": "code",
   "execution_count": null,
   "metadata": {
    "collapsed": true
   },
   "outputs": [],
   "source": [
    "y_uniq_median[300:]"
   ]
  },
  {
   "cell_type": "code",
   "execution_count": null,
   "metadata": {
    "collapsed": true,
    "scrolled": true
   },
   "outputs": [],
   "source": [
    "plt.loglog(x_axis[1:], (1/4225.0)*y_uniq_median[1:], 'b--', label='raw data')\n",
    "# plt.loglog(x_axis[1:], [heaps_law_fit(x_axis[i]) for i in range(len(x_axis))][1:], 'r', label='Heaps Law')\n",
    "plt.loglog(x_axis[1:], (1/4225.0)*heaps_law(x_axis[1:], *popt), 'r', label='Heaps Law')\n",
    "y_borderline = [borderline_power_law(1, x) for x in x_axis]\n",
    "plt.loglog(x_axis[1:], (1/4225.0)*np.array(y_borderline[1:]), 'k', label='Borderline Power Law')"
   ]
  },
  {
   "cell_type": "code",
   "execution_count": null,
   "metadata": {
    "collapsed": true
   },
   "outputs": [],
   "source": [
    "plt.style.use('seaborn-white')\n",
    "\n",
    "a5_dims = (8, 5)\n",
    "opacity = 0.3\n",
    "fig, ax = plt.subplots(figsize=a5_dims)\n",
    "# y_borderline = [borderline_power_law(popt[0], x) for x in x_axis]\n",
    "y_borderline = [borderline_power_law(1, x) for x in x_axis]\n",
    "# ax.loglog(x_axis, (1.0/4225)*y_uniq_median, 'b--', label='raw data')\n",
    "ax.loglog(x_axis, heaps_law(x_axis, *popt), 'r--', label='Heaps Law')\n",
    "# ax.loglog(x_axis, (1.0/4225)*heaps_law(x_axis, *popt), 'r--', label='Heaps Law')\n",
    "ax.loglog(x_axis, np.array(y_borderline), 'k', label='Borderline Power Law')\n",
    "# plt.errorbar(x_axis, y_uniq_median, xerr=x_axis, yerr=y_uniq_error)\n",
    "plt.title(\"Pan-genome \")\n",
    "plt.ylabel(\"Normalized # of new genes discovered\")\n",
    "plt.xlabel(\"# of strains added to pan-genome\")\n",
    "plt.legend()\n",
    "plt.savefig(\"../../Figures/MAIN2_open_pangenome.svg\", format=\"svg\")"
   ]
  },
  {
   "cell_type": "code",
   "execution_count": null,
   "metadata": {
    "collapsed": true
   },
   "outputs": [],
   "source": [
    "plt.style.use('seaborn-white')\n",
    "\n",
    "a5_dims = (8, 5)\n",
    "opacity = 0.3\n",
    "fig, ax = plt.subplots(figsize=a5_dims)\n",
    "plt.loglog(x_axis, [heaps_law_fit(x_axis[i]) for i in range(len(x_axis))], 'r--', label='Heaps Law')\n",
    "y_borderline = [borderline_power_law(4225.65, x) for x in x_axis]\n",
    "ax.loglog(x_axis, np.array(y_borderline), 'k', label='Borderline Power Law')\n",
    "# plt.errorbar(x_axis, y_uniq_median, xerr=x_axis, yerr=y_uniq_error)\n",
    "plt.title(\"Pan-genome \")\n",
    "plt.ylabel(\"Normalized # of new genes discovered\")\n",
    "plt.xlabel(\"# of strains added to pan-genome\")\n",
    "plt.legend()\n",
    "plt.savefig(\"../../Figures/MAIN2_closed_pangenome_v2.svg\", format=\"svg\")"
   ]
  },
  {
   "cell_type": "code",
   "execution_count": null,
   "metadata": {
    "collapsed": true
   },
   "outputs": [],
   "source": [
    "# plt.errorbar(x_axis, y_uniq_median, xerr=x_axis, yerr=y_uniq_error)"
   ]
  }
 ],
 "metadata": {
  "kernelspec": {
   "display_name": "Python 2",
   "language": "python",
   "name": "python2"
  },
  "language_info": {
   "codemirror_mode": {
    "name": "ipython",
    "version": 2
   },
   "file_extension": ".py",
   "mimetype": "text/x-python",
   "name": "python",
   "nbconvert_exporter": "python",
   "pygments_lexer": "ipython2",
   "version": "2.7.14"
  }
 },
 "nbformat": 4,
 "nbformat_minor": 2
}
