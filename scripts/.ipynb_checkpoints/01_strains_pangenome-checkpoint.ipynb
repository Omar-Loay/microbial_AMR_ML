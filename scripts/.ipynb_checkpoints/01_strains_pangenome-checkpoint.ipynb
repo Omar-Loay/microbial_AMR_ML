{
 "cells": [
  {
   "cell_type": "markdown",
   "metadata": {},
   "source": [
    "# 01.A - Determine shape of _Mycobacterium tuberculosis_ pan-genome"
   ]
  },
  {
   "cell_type": "code",
   "execution_count": 1,
   "metadata": {
    "collapsed": true
   },
   "outputs": [],
   "source": [
    "import pandas as pd\n",
    "from tqdm import tqdm\n",
    "%matplotlib inline\n",
    "\n",
    "import numpy as np\n",
    "import matplotlib.pyplot as plt\n",
    "import os\n",
    "import subprocess\n",
    "from collections import Counter\n",
    "# import cartopy.crs as ccrs\n",
    "import seaborn as sns\n",
    "import matplotlib as mpl\n",
    "from scipy import stats"
   ]
  },
  {
   "cell_type": "markdown",
   "metadata": {},
   "source": [
    "Load data"
   ]
  },
  {
   "cell_type": "code",
   "execution_count": 2,
   "metadata": {
    "collapsed": true
   },
   "outputs": [],
   "source": [
    "### Define locations and filenames for the pan-genome matrices.\n",
    "DATA_DIR = \"../data/\" \n",
    "SUPP_DIR = \"../supplement/\"\n",
    "FINAL_SUPP_DIR = SUPP_DIR+\"supplement_final/\"\n",
    "SUPP_SVM_PLANES = FINAL_SUPP_DIR+\"Supplementary_Data_File_3/\"\n",
    "SUPP_SVM_DATA = SUPP_DIR + \"svm_ensemble_data/\"\n",
    "\n",
    "# load key data matrices\n",
    "CLUSTER_INFO_FILE = \"cluster_info.csv\"\n",
    "STRAIN_INFO_FILE = \"PATRIC_genome_info.csv\"\n",
    "X_PANGEN_CLUSTERS_FILE = \"pangen_cluster_df.csv\"  # the species-cluster (each cluster represents a \"gene\")\n",
    "X_PANGEN_ALLELES_FILE = \"pangen_allele_df.csv\"  # the species-allele matrix\n",
    "# Y_PHENOTYPES_FILE = \"y_drug_TB.csv\"  # the species-phenotype matrix\n",
    "Y_PHENOTYPES_FILE = \"resistance_data.csv\"  # the species-phenotype matrix"
   ]
  },
  {
   "cell_type": "code",
   "execution_count": 3,
   "metadata": {},
   "outputs": [],
   "source": [
    "# Load resistance data\n",
    "resistance_data = pd.read_csv(DATA_DIR+Y_PHENOTYPES_FILE, index_col = 0) #resistance_data\n",
    "drug_list = list(resistance_data.columns.map(str))\n",
    "\n",
    "# Load pan-genome in both cluster and allele form\n",
    "pan_cluster_df = pd.read_csv(DATA_DIR+X_PANGEN_CLUSTERS_FILE, index_col = 0) #pan_cluster_df\n",
    "pan_variant_df = pd.read_csv(DATA_DIR+X_PANGEN_ALLELES_FILE, index_col = 0) #clust_variant_df\n",
    "\n",
    "# Load cluster information file\n",
    "clust_info_df = pd.read_csv(DATA_DIR+CLUSTER_INFO_FILE, index_col = 0) #test_df_final\n",
    "\n",
    "# Load strain information file\n",
    "strain_info_df = pd.read_csv(DATA_DIR+STRAIN_INFO_FILE, index_col = 0) #...."
   ]
  },
  {
   "cell_type": "code",
   "execution_count": 4,
   "metadata": {},
   "outputs": [],
   "source": [
    "# define these dictionaries for ease of mapping...\n",
    "\n",
    "# clust_to_rv_fromJson = load_json_obj(DATA_DIR+\"clust_to_rv.json\")\n",
    "clust_to_rv = pd.Series(clust_info_df.clust_to_rv.values,index=clust_info_df.index).to_dict()\n",
    "rv_to_clust = pd.Series(clust_info_df.index,index=clust_info_df.clust_to_rv.values).to_dict()\n",
    "rv_to_name = pd.Series(clust_info_df.gene_name.values,index=clust_info_df.clust_to_rv.values).to_dict()\n",
    "clust_to_prod = pd.Series(clust_info_df[\"product\"].values,index=clust_info_df.index).to_dict()"
   ]
  },
  {
   "cell_type": "markdown",
   "metadata": {},
   "source": [
    "Based on the heaps law calculation for the PE-PGRS proteins, we may be able to estimate a better distribution of what the true pan-genome distributino is for TB. Towards this goal, Jon's work on getting better reads such as long and short reads would provide a more comprehensive determinination of a pan-genome's \"openness\""
   ]
  },
  {
   "cell_type": "markdown",
   "metadata": {},
   "source": [
    "## Clean pan-genome clusters according to the following criteria\n",
    "- Remove PE/PPE/PGRS proteins"
   ]
  },
  {
   "cell_type": "code",
   "execution_count": 142,
   "metadata": {},
   "outputs": [
    {
     "name": "stderr",
     "output_type": "stream",
     "text": [
      "100%|██████████| 11039/11039 [00:00<00:00, 12344.61it/s]\n"
     ]
    },
    {
     "name": "stdout",
     "output_type": "stream",
     "text": [
      "Number of clusters before filtering... 11039\n",
      "Number of clusters after filtering... 8868\n",
      "Number of clusters removed... 2171\n"
     ]
    }
   ],
   "source": [
    "pan_cluster_df = pan_cluster_df.fillna(0).copy()\n",
    "result_gene_vs_genome_frame_add = pan_cluster_df.copy()\n",
    "remove_cols = []\n",
    "for col_name in tqdm(pan_cluster_df.columns):\n",
    "    # col_name = col.split(\"_\")[0].replace(\"ter\", \"ter \")\n",
    "    clust_to_RV = clust_info_df.loc[col_name, \"clust_to_rv\"]\n",
    "    gene_name = clust_info_df.loc[col_name, \"gene_name\"]\n",
    "    product = clust_info_df.loc[col_name, \"product\"]\n",
    "    \n",
    "#     if clust_to_RV == \"0\" and gene_name == \"0\": # removes 7149\n",
    "#         remove_cols.append(col_name)\n",
    "    for p in [u'PPE family protein', u'PE family protein',\n",
    "       u'PE-PGRS family protein', u'CONSERVED 13E12 REPEAT FAMILY PROTEIN',\n",
    "       u'FIG023076: hypothetical protein in PPE gene cluster', \"PE-PGRS\",\n",
    "       u'PPE family protein Rv0286, component of Type VII secretion system ESX-3',\n",
    "       u'Protein PE35, involved in regulation of esxAB expression in Type VII secretion system ESX-1',\n",
    "       u'Gating protein PPE68, component of Type VII secretion system ESX-1',\n",
    "       u'PE-PGRS FAMILY PROTEIN',\n",
    "       u'PE FAMILY PROTEIN', u'PE_PGRS family protein',\n",
    "       u'POSSIBLE CONSERVED LIPOPROTEIN LPPE', u'PE_PGRS',\n",
    "       u'PPE family protein PPE16',\n",
    "       u'PE-PGRS virulence associated protein',\n",
    "       u'FIG018298: PE family protein']:\n",
    "        if p in product:\n",
    "            remove_cols.append(col_name)\n",
    "            \n",
    "    # if \"PE-PGRS\" in product or \"PPE family\" in product or \"PE family protein\" in product: # remainder 8877\n",
    "        \n",
    "#     if \"hypothetical protein\" in product or \"Hypothetical protein\" in product:\n",
    "#         remove_cols.append(col_name)\n",
    "\n",
    "remove_cols = list(set(remove_cols))\n",
    "print \"Number of clusters before filtering...\", len(pan_cluster_df.columns)\n",
    "result_gene_vs_genome_frame_add.drop(remove_cols, axis=1, inplace=True)\n",
    "print \"Number of clusters after filtering...\",len(result_gene_vs_genome_frame_add.columns)\n",
    "print \"Number of clusters removed...\",len(remove_cols)"
   ]
  },
  {
   "cell_type": "code",
   "execution_count": 126,
   "metadata": {},
   "outputs": [
    {
     "name": "stdout",
     "output_type": "stream",
     "text": [
      "(1595, 11039)\n",
      "(1595, 8877)\n"
     ]
    }
   ],
   "source": [
    "print pan_cluster_df.shape\n",
    "print result_gene_vs_genome_frame_add.shape"
   ]
  },
  {
   "cell_type": "code",
   "execution_count": 127,
   "metadata": {},
   "outputs": [],
   "source": [
    "# col_list_drop = []\n",
    "# result_gvg_drop_frame = result_gene_vs_genome_frame_add.copy()\n",
    "# for col in result_gene_vs_genome_frame_add.columns:\n",
    "#     if result_gene_vs_genome_frame_add[col].sum() < 2:\n",
    "#         col_list_drop.append(col)\n",
    "# result_gvg_drop_frame.drop(col_list_drop,axis=1, inplace=True)\n",
    "# # result_gene_vs_genome_frame_add.drop(col_list_drop,axis=1, inplace=True)\n",
    "# print len(col_list_drop)"
   ]
  },
  {
   "cell_type": "code",
   "execution_count": 128,
   "metadata": {
    "collapsed": true
   },
   "outputs": [],
   "source": [
    "def calc_pangenome_curves(pangenome_df):\n",
    "    x_axis = range(len(pangenome_df.index))\n",
    "    clust_list = set()\n",
    "    core_list = set()\n",
    "    y_cluster_count = []\n",
    "    y_core_count = []\n",
    "    count = 0\n",
    "    for strain_id, row in pangenome_df.iterrows():\n",
    "        count = count + 1\n",
    "        if count == 1:\n",
    "            core_list = set(list(row[row!=0].index))\n",
    "            # y_core_count.append(len(core_list))\n",
    "        else:\n",
    "            # -- Calculate core-genome curve - those found in every strain.\n",
    "            core_list = core_list.intersection(set(list(row[row!=0].index)))\n",
    "\n",
    "        y_core_count.append(len(core_list))\n",
    "        \n",
    "\n",
    "        # -- Calculate pan-genome curve - \"increasing num of clusters\"\n",
    "        clust_list.update(list(row[row!=0].index))\n",
    "        y_cluster_count.append(len(clust_list))\n",
    "\n",
    "    # -- Calculate unique gene curve - \"number of new genes added\"\n",
    "    y_new_genes_count = [y_cluster_count[0]] # initialize to first genome count.\n",
    "    for x in x_axis[1:]:\n",
    "        y_new_genes_count.append(y_cluster_count[x] - y_cluster_count[x-1])\n",
    "        \n",
    "    return y_cluster_count, y_core_count, y_new_genes_count"
   ]
  },
  {
   "cell_type": "code",
   "execution_count": 129,
   "metadata": {},
   "outputs": [
    {
     "name": "stderr",
     "output_type": "stream",
     "text": [
      "100%|██████████| 100/100 [06:49<00:00,  4.10s/it]\n"
     ]
    }
   ],
   "source": [
    "y_clst_num = []\n",
    "y_core_num = []\n",
    "y_uniq_num = []\n",
    "for x in tqdm(range(100)):\n",
    "    # loop_df = pd.concat([outlier_df, result_gene_vs_genome_frame_add.sample(frac=1).reset_index(drop=True)])\n",
    "    loop_df = result_gene_vs_genome_frame_add.sample(frac=1).reset_index(drop=True)\n",
    "    # loop_df = result_gvg_drop_frame.sample(frac=1).reset_index(drop=True)\n",
    "    # print loop_df.ix[0, \"\"]\n",
    "    y_clst, y_core, y_new = calc_pangenome_curves( loop_df )\n",
    "    y_clst_num.append(y_clst)\n",
    "    y_core_num.append(y_core)\n",
    "    y_uniq_num.append(y_new)"
   ]
  },
  {
   "cell_type": "code",
   "execution_count": 130,
   "metadata": {
    "collapsed": true
   },
   "outputs": [],
   "source": [
    "y_clst_avg = [float(sum(col))/len(col) for col in zip(*y_clst_num)]\n",
    "y_core_avg = [float(sum(col))/len(col) for col in zip(*y_core_num)]\n",
    "y_uniq_avg = [float(sum(col))/len(col) for col in zip(*y_uniq_num)]\n",
    "\n",
    "y_clst_median = np.median(np.array(y_clst_num),axis=0)\n",
    "y_clst_error = stats.sem(np.array(y_clst_num))\n",
    "\n",
    "y_core_median = np.median(np.array(y_core_num),axis=0)\n",
    "y_core_error = stats.sem(np.array(y_core_num))\n",
    "\n",
    "y_uniq_median = np.median(np.array(y_uniq_num),axis=0)\n",
    "y_uniq_error = stats.sem(np.array(y_uniq_num))"
   ]
  },
  {
   "cell_type": "markdown",
   "metadata": {},
   "source": [
    "### Plot"
   ]
  },
  {
   "cell_type": "code",
   "execution_count": 131,
   "metadata": {},
   "outputs": [
    {
     "name": "stdout",
     "output_type": "stream",
     "text": [
      "[u'seaborn-darkgrid', u'Solarize_Light2', u'seaborn-notebook', u'classic', u'seaborn-ticks', u'grayscale', u'bmh', u'seaborn-talk', u'dark_background', u'ggplot', u'fivethirtyeight', u'_classic_test', u'seaborn-colorblind', u'seaborn-deep', u'seaborn-whitegrid', u'seaborn-bright', u'seaborn-poster', u'seaborn-muted', u'seaborn-paper', u'seaborn-white', u'fast', u'seaborn-pastel', u'seaborn-dark', u'seaborn', u'seaborn-dark-palette']\n"
     ]
    }
   ],
   "source": [
    "%matplotlib inline\n",
    "print(plt.style.available)"
   ]
  },
  {
   "cell_type": "code",
   "execution_count": 134,
   "metadata": {
    "scrolled": false
   },
   "outputs": [
    {
     "data": {
      "text/plain": [
       "<matplotlib.legend.Legend at 0x10653a4d0>"
      ]
     },
     "execution_count": 134,
     "metadata": {},
     "output_type": "execute_result"
    },
    {
     "data": {
      "image/png": "[encoded data removed]",
      "text/plain": [
       "<matplotlib.figure.Figure at 0x105ebd190>"
      ]
     },
     "metadata": {},
     "output_type": "display_data"
    }
   ],
   "source": [
    "x_axis = range(len(y_clst))\n",
    "plt.style.use('seaborn-white')\n",
    "a5_dims = (9, 6)\n",
    "opacity = 0.3\n",
    "fig, ax = plt.subplots(figsize=a5_dims)\n",
    "ax.spines[\"top\"].set_visible(False)  \n",
    "ax.spines[\"right\"].set_visible(False)  \n",
    "ax.get_xaxis().tick_bottom()  \n",
    "ax.get_yaxis().tick_left() \n",
    "ax.set_xlim(0, 1625)\n",
    "ax.set_ylim(0, 9000)\n",
    "plt.fill_between(x_axis, y_clst_median - y_clst_error , y_clst_median + y_clst_error , color=\"#3F5D7D\")\n",
    "plt.fill_between(x_axis, y_clst_median, y_core_median, color=\"#43a2ca\", alpha=0.2, label = \"\")\n",
    "plt.fill_between(x_axis, y_core_median, y_uniq_median, color=\"#fddbc7\", alpha=0.2, label = \"\")\n",
    "plt.fill_between(x_axis, y_uniq_median, [0]*len(x_axis), color=\"#fddbc7\", alpha=0.2, label = \"\")\n",
    "plt.title(\"Pan-genome curve\")\n",
    "plt.xlabel(\"Strains\")\n",
    "plt.ylabel(\"Clusters\")\n",
    "ax.plot(x_axis, y_clst_median, color=\"#3F5D7D\", label='pan-genome')\n",
    "ax.plot(x_axis, y_core_median, color=\"#de2d26\", label='core genome')\n",
    "ax.plot(x_axis, y_uniq_median, color=\"#31a354\", label='unique genome')\n",
    "plt.ylabel(\"# of pan-genome clusters\")\n",
    "plt.xlabel(\"# of strains\")\n",
    "plt.legend()\n",
    "# plt.savefig(\"../../Figures/MAIN2_pangenome_curve.svg\", format=\"svg\")"
   ]
  },
  {
   "cell_type": "code",
   "execution_count": 135,
   "metadata": {
    "collapsed": true
   },
   "outputs": [
    {
     "data": {
      "text/plain": [
       "[<matplotlib.lines.Line2D at 0x1088cffd0>]"
      ]
     },
     "execution_count": 135,
     "metadata": {},
     "output_type": "execute_result"
    },
    {
     "data": {
      "image/png": "[encoded data removed]",
      "text/plain": [
       "<matplotlib.figure.Figure at 0x106cd2350>"
      ]
     },
     "metadata": {},
     "output_type": "display_data"
    }
   ],
   "source": [
    "# Design aspects\n",
    "x_axis = range(len(y_clst))\n",
    "plt.style.use('seaborn-white')\n",
    "a5_dims = (9, 6)\n",
    "opacity = 0.3\n",
    "fig, ax = plt.subplots(figsize=a5_dims)\n",
    "ax.spines[\"top\"].set_visible(False)  \n",
    "ax.spines[\"right\"].set_visible(False)  \n",
    "ax.get_xaxis().tick_bottom()  \n",
    "ax.get_yaxis().tick_left() \n",
    "ax.set_xlim(0, 1625)\n",
    "ax.set_ylim(0, 9000)\n",
    "plt.fill_between(x_axis, y_clst_avg - y_clst_error , y_clst_avg + y_clst_error , color=\"#3F5D7D\")\n",
    "plt.fill_between(x_axis, y_clst_avg, y_core_avg, color=\"#43a2ca\", alpha=0.2, label = \"\")\n",
    "plt.fill_between(x_axis, y_core_avg, y_uniq_avg, color=\"#fddbc7\", alpha=0.2, label = \"\")\n",
    "plt.fill_between(x_axis, y_uniq_avg, [0]*len(x_axis), color=\"#fddbc7\", alpha=0.2, label = \"\")\n",
    "plt.title(\"Pan-genome curve - AVERAGE\")\n",
    "ax.plot(x_axis, y_clst_avg, color=\"#3F5D7D\")\n",
    "ax.plot(x_axis, y_core_avg, color=\"#de2d26\")\n",
    "ax.plot(x_axis, y_uniq_avg, color=\"#31a354\")"
   ]
  },
  {
   "cell_type": "markdown",
   "metadata": {},
   "source": [
    "### Fit pan-genome to Heap's Law\n",
    "\n",
    "$$M = kT^b$$"
   ]
  },
  {
   "cell_type": "code",
   "execution_count": 143,
   "metadata": {
    "collapsed": true
   },
   "outputs": [],
   "source": [
    "from scipy.optimize import curve_fit # uses non-linear least squares to fit a function to data."
   ]
  },
  {
   "cell_type": "code",
   "execution_count": 144,
   "metadata": {
    "collapsed": true
   },
   "outputs": [],
   "source": [
    "x_axis = range(1595)"
   ]
  },
  {
   "cell_type": "code",
   "execution_count": 145,
   "metadata": {
    "scrolled": false
   },
   "outputs": [
    {
     "data": {
      "text/plain": [
       "0.757858283255199"
      ]
     },
     "execution_count": 145,
     "metadata": {},
     "output_type": "execute_result"
    }
   ],
   "source": [
    "def heaps_law(x, K, b):\n",
    "    return K*(x**(-b))\n",
    "\n",
    "def borderline_power_law(K, x):\n",
    "    return K*(x**(-1))\n",
    "\n",
    "def heaps_law_fit(x):\n",
    "    return 4225.65*(x**(-4.646))\n",
    "\n",
    "heaps_law(2, 1, .4)"
   ]
  },
  {
   "cell_type": "code",
   "execution_count": 146,
   "metadata": {
    "collapsed": true
   },
   "outputs": [],
   "source": [
    "# need to move everything to 0\n",
    "x_axis[0] = 0\n",
    "x_axis = [x+1 for x in x_axis]"
   ]
  },
  {
   "cell_type": "code",
   "execution_count": 147,
   "metadata": {
    "scrolled": true
   },
   "outputs": [
    {
     "name": "stdout",
     "output_type": "stream",
     "text": [
      "K =  176.90090537881608 , b =  0.8850594256892794\n"
     ]
    }
   ],
   "source": [
    "# popt, pcov = curve_fit(heaps_law, x_axis, y_clst_median)\n",
    "popt, pcov = curve_fit(heaps_law, x_axis[1:], y_uniq_median[1:])\n",
    "print \"K = \", popt[0], \", b = \", popt[1]"
   ]
  },
  {
   "cell_type": "code",
   "execution_count": 148,
   "metadata": {},
   "outputs": [
    {
     "data": {
      "text/plain": [
       "[<matplotlib.lines.Line2D at 0x106300550>]"
      ]
     },
     "execution_count": 148,
     "metadata": {},
     "output_type": "execute_result"
    },
    {
     "data": {
      "image/png": "[encoded data removed]",
      "text/plain": [
       "<matplotlib.figure.Figure at 0x106300710>"
      ]
     },
     "metadata": {},
     "output_type": "display_data"
    }
   ],
   "source": [
    "plt.plot(x_axis, (1.0/4225)*y_uniq_median, 'b-', label='data')\n",
    "plt.plot(x_axis, (1.0/4225)*heaps_law(x_axis, *popt), 'g--', label='fit-NO-bounds')\n",
    "# plt.plot(x_axis, heaps_law(x_axis, *popt), 'y--', label='fit-with-bounds')\n",
    "# plt.plot(x_axis, heaps_law(x_axis, *np.asarray([1000, 1.1])), 'r--', label='fake-closed-curve')"
   ]
  },
  {
   "cell_type": "code",
   "execution_count": 149,
   "metadata": {
    "collapsed": true
   },
   "outputs": [
    {
     "data": {
      "text/plain": [
       "[<matplotlib.lines.Line2D at 0x106cf4710>]"
      ]
     },
     "execution_count": 149,
     "metadata": {},
     "output_type": "execute_result"
    },
    {
     "data": {
      "image/png": "[encoded data removed]",
      "text/plain": [
       "<matplotlib.figure.Figure at 0x10634e6d0>"
      ]
     },
     "metadata": {},
     "output_type": "display_data"
    }
   ],
   "source": [
    "plt.loglog(x_axis[1:], y_clst_median[1:], 'b--', label='median unique genome line')"
   ]
  },
  {
   "cell_type": "code",
   "execution_count": 150,
   "metadata": {
    "scrolled": true
   },
   "outputs": [
    {
     "data": {
      "text/plain": [
       "<matplotlib.legend.Legend at 0x1098f2a90>"
      ]
     },
     "execution_count": 150,
     "metadata": {},
     "output_type": "execute_result"
    },
    {
     "data": {
      "image/png": "[encoded data removed]",
      "text/plain": [
       "<matplotlib.figure.Figure at 0x109892390>"
      ]
     },
     "metadata": {},
     "output_type": "display_data"
    }
   ],
   "source": [
    "plt.style.use('seaborn-white')\n",
    "\n",
    "a5_dims = (6, 5)\n",
    "opacity = 0.3\n",
    "fig, ax = plt.subplots(figsize=a5_dims)\n",
    "\n",
    "plt.semilogx(x_axis[1:], (1.0/4225)*y_uniq_median[1:], 'b--', label='median unique genome line')\n",
    "# plt.plot(x_axis[0:], y_uniq_median[0:], 'b--', label='median unique genome line')\n",
    "plt.semilogx(x_axis[1:], (1.0/4225)*heaps_law(x_axis[1:], *popt), 'g--', label='heaps power law fit')\n",
    "# plt.semilogx(x_axis, (1.0/4225)*y_uniq_error, 'r--', label='median unique genome error')\n",
    "#plt.errorbar(x_axis, (1.0/4225)*y_uniq_median, xerr=x_axis, yerr=y_uniq_error)\n",
    "# plt.title(\"Pan-genome\")\n",
    "plt.ylabel(\"Normalized # of new genes discovered (not logarithmic)\")\n",
    "plt.xlabel(\"# of strains added to pan-genome\")\n",
    "plt.legend()\n",
    "# plt.savefig(\"../../Figures/SUPP2_heaps_fit.svg\", format=\"svg\")"
   ]
  },
  {
   "cell_type": "code",
   "execution_count": 151,
   "metadata": {
    "collapsed": true,
    "scrolled": true
   },
   "outputs": [
    {
     "data": {
      "text/plain": [
       "[<matplotlib.lines.Line2D at 0x10abf1890>]"
      ]
     },
     "execution_count": 151,
     "metadata": {},
     "output_type": "execute_result"
    },
    {
     "data": {
      "image/png": "[encoded data removed]",
      "text/plain": [
       "<matplotlib.figure.Figure at 0x1091617d0>"
      ]
     },
     "metadata": {},
     "output_type": "display_data"
    }
   ],
   "source": [
    "plt.loglog(x_axis[1:], (1/4225.0)*heaps_law(x_axis[1:], *popt), 'r', label='Heaps Law')\n",
    "y_borderline = [borderline_power_law(1, x) for x in x_axis]\n",
    "plt.loglog(x_axis[1:], (1/4225.0)*np.array(y_borderline[1:]), 'k', label='Borderline Power Law')"
   ]
  },
  {
   "cell_type": "code",
   "execution_count": null,
   "metadata": {
    "collapsed": true
   },
   "outputs": [],
   "source": [
    "plt.style.use('seaborn-white')\n",
    "\n",
    "a5_dims = (8, 5)\n",
    "opacity = 0.3\n",
    "fig, ax = plt.subplots(figsize=a5_dims)\n",
    "# y_borderline = [borderline_power_law(popt[0], x) for x in x_axis]\n",
    "y_borderline = [borderline_power_law(1, x) for x in x_axis]\n",
    "# ax.loglog(x_axis, (1.0/4225)*y_uniq_median, 'b--', label='raw data')\n",
    "ax.loglog(x_axis, heaps_law(x_axis, *popt), 'r--', label='Heaps Law')\n",
    "# ax.loglog(x_axis, (1.0/4225)*heaps_law(x_axis, *popt), 'r--', label='Heaps Law')\n",
    "ax.loglog(x_axis, np.array(y_borderline), 'k', label='Borderline Power Law')\n",
    "# plt.errorbar(x_axis, y_uniq_median, xerr=x_axis, yerr=y_uniq_error)\n",
    "plt.title(\"Pan-genome \")\n",
    "plt.ylabel(\"Normalized # of new genes discovered\")\n",
    "plt.xlabel(\"# of strains added to pan-genome\")\n",
    "plt.legend()\n",
    "plt.savefig(\"../../Figures/MAIN2_open_pangenome.svg\", format=\"svg\")"
   ]
  },
  {
   "cell_type": "code",
   "execution_count": null,
   "metadata": {
    "collapsed": true
   },
   "outputs": [],
   "source": [
    "plt.style.use('seaborn-white')\n",
    "\n",
    "a5_dims = (8, 5)\n",
    "opacity = 0.3\n",
    "fig, ax = plt.subplots(figsize=a5_dims)\n",
    "plt.loglog(x_axis, [heaps_law_fit(x_axis[i]) for i in range(len(x_axis))], 'r--', label='Heaps Law')\n",
    "y_borderline = [borderline_power_law(4225.65, x) for x in x_axis]\n",
    "ax.loglog(x_axis, np.array(y_borderline), 'k', label='Borderline Power Law')\n",
    "# plt.errorbar(x_axis, y_uniq_median, xerr=x_axis, yerr=y_uniq_error)\n",
    "plt.title(\"Pan-genome \")\n",
    "plt.ylabel(\"Normalized # of new genes discovered\")\n",
    "plt.xlabel(\"# of strains added to pan-genome\")\n",
    "plt.legend()\n",
    "plt.savefig(\"../../Figures/MAIN2_closed_pangenome_v2.svg\", format=\"svg\")"
   ]
  },
  {
   "cell_type": "code",
   "execution_count": null,
   "metadata": {
    "collapsed": true
   },
   "outputs": [],
   "source": [
    "# plt.errorbar(x_axis, y_uniq_median, xerr=x_axis, yerr=y_uniq_error)"
   ]
  },
  {
   "cell_type": "markdown",
   "metadata": {},
   "source": [
    "# 01.B -  Conslidate general characteristics of the strains chosen in this study.\n",
    "1. Publication\n",
    "2. \n",
    "\n",
    "### Load _M. tuberculosis_ pan-genome dataset\n",
    "> **NOTE**: The \".\" in the PATRIC genome IDs have been replaced by a \"\\_\" to avoid issues that arise when the strain ID is interpreted as a float."
   ]
  },
  {
   "cell_type": "code",
   "execution_count": 5,
   "metadata": {},
   "outputs": [],
   "source": [
    "publication_globallyDiverse = pd.read_excel(DATA_DIR+\"strain_publications/\"+\"globally_diverse_5310.xlsx\", index_col = 0) #...."
   ]
  },
  {
   "cell_type": "code",
   "execution_count": 6,
   "metadata": {},
   "outputs": [],
   "source": [
    "# Load resistance data\n",
    "resistance_data = pd.read_csv(DATA_DIR+Y_PHENOTYPES_FILE, index_col = 0) #resistance_data\n",
    "drug_list = list(resistance_data.columns.map(str))\n",
    "\n",
    "# Load pan-genome in both cluster and allele form\n",
    "pan_cluster_df = pd.read_csv(DATA_DIR+X_PANGEN_CLUSTERS_FILE, index_col = 0) #pan_cluster_df\n",
    "pan_variant_df = pd.read_csv(DATA_DIR+X_PANGEN_ALLELES_FILE, index_col = 0) #clust_variant_df\n",
    "\n",
    "# Load cluster information file\n",
    "clust_info_df = pd.read_csv(DATA_DIR+CLUSTER_INFO_FILE, index_col = 0) #test_df_final\n",
    "\n",
    "# Load strain information file\n",
    "strain_info_df = pd.read_csv(DATA_DIR+STRAIN_INFO_FILE, index_col = 0) #...."
   ]
  },
  {
   "cell_type": "code",
   "execution_count": 7,
   "metadata": {},
   "outputs": [
    {
     "data": {
      "text/html": [
       "<div>\n",
       "<style scoped>\n",
       "    .dataframe tbody tr th:only-of-type {\n",
       "        vertical-align: middle;\n",
       "    }\n",
       "\n",
       "    .dataframe tbody tr th {\n",
       "        vertical-align: top;\n",
       "    }\n",
       "\n",
       "    .dataframe thead th {\n",
       "        text-align: right;\n",
       "    }\n",
       "</style>\n",
       "<table border=\"1\" class=\"dataframe\">\n",
       "  <thead>\n",
       "    <tr style=\"text-align: right;\">\n",
       "      <th></th>\n",
       "      <th>study</th>\n",
       "      <th>country of isolation</th>\n",
       "      <th>continent of isolation</th>\n",
       "      <th>United Nations Geographic Region</th>\n",
       "      <th>lineage</th>\n",
       "      <th>spoligotype</th>\n",
       "      <th>computationally predicted drug resistance profile</th>\n",
       "      <th>INH</th>\n",
       "      <th>STR</th>\n",
       "      <th>RIF</th>\n",
       "      <th>EMB</th>\n",
       "      <th>ETH</th>\n",
       "      <th>PZA</th>\n",
       "      <th>OFL</th>\n",
       "      <th>KAN</th>\n",
       "      <th>total # of resistances</th>\n",
       "      <th>isolation date (or date range)</th>\n",
       "    </tr>\n",
       "    <tr>\n",
       "      <th>Strain</th>\n",
       "      <th></th>\n",
       "      <th></th>\n",
       "      <th></th>\n",
       "      <th></th>\n",
       "      <th></th>\n",
       "      <th></th>\n",
       "      <th></th>\n",
       "      <th></th>\n",
       "      <th></th>\n",
       "      <th></th>\n",
       "      <th></th>\n",
       "      <th></th>\n",
       "      <th></th>\n",
       "      <th></th>\n",
       "      <th></th>\n",
       "      <th></th>\n",
       "      <th></th>\n",
       "    </tr>\n",
       "  </thead>\n",
       "  <tbody>\n",
       "    <tr>\n",
       "      <th>ERR550724</th>\n",
       "      <td>Merker et al., 2015</td>\n",
       "      <td>Uzbekistan</td>\n",
       "      <td>Asia</td>\n",
       "      <td>Central_Asia</td>\n",
       "      <td>LIN-2</td>\n",
       "      <td>Beijing</td>\n",
       "      <td>MDR</td>\n",
       "      <td>1</td>\n",
       "      <td>1</td>\n",
       "      <td>1</td>\n",
       "      <td>1</td>\n",
       "      <td>0</td>\n",
       "      <td>0.0</td>\n",
       "      <td>0</td>\n",
       "      <td>0</td>\n",
       "      <td>4</td>\n",
       "      <td>2005</td>\n",
       "    </tr>\n",
       "    <tr>\n",
       "      <th>ERR550887</th>\n",
       "      <td>Merker et al., 2015</td>\n",
       "      <td>Uzbekistan</td>\n",
       "      <td>Asia</td>\n",
       "      <td>Central_Asia</td>\n",
       "      <td>LIN-2</td>\n",
       "      <td>Beijing</td>\n",
       "      <td>MDR</td>\n",
       "      <td>1</td>\n",
       "      <td>1</td>\n",
       "      <td>1</td>\n",
       "      <td>1</td>\n",
       "      <td>0</td>\n",
       "      <td>0.0</td>\n",
       "      <td>0</td>\n",
       "      <td>0</td>\n",
       "      <td>4</td>\n",
       "      <td>2005</td>\n",
       "    </tr>\n",
       "    <tr>\n",
       "      <th>ERR551159</th>\n",
       "      <td>Merker et al., 2015</td>\n",
       "      <td>Uzbekistan</td>\n",
       "      <td>Asia</td>\n",
       "      <td>Central_Asia</td>\n",
       "      <td>LIN-2</td>\n",
       "      <td>Beijing</td>\n",
       "      <td>MDR</td>\n",
       "      <td>1</td>\n",
       "      <td>1</td>\n",
       "      <td>1</td>\n",
       "      <td>0</td>\n",
       "      <td>0</td>\n",
       "      <td>0.0</td>\n",
       "      <td>0</td>\n",
       "      <td>0</td>\n",
       "      <td>3</td>\n",
       "      <td>2004</td>\n",
       "    </tr>\n",
       "    <tr>\n",
       "      <th>ERR551305</th>\n",
       "      <td>Merker et al., 2015</td>\n",
       "      <td>Uzbekistan</td>\n",
       "      <td>Asia</td>\n",
       "      <td>Central_Asia</td>\n",
       "      <td>LIN-2</td>\n",
       "      <td>Beijing</td>\n",
       "      <td>MDR</td>\n",
       "      <td>1</td>\n",
       "      <td>1</td>\n",
       "      <td>1</td>\n",
       "      <td>1</td>\n",
       "      <td>0</td>\n",
       "      <td>0.0</td>\n",
       "      <td>0</td>\n",
       "      <td>0</td>\n",
       "      <td>4</td>\n",
       "      <td>2005</td>\n",
       "    </tr>\n",
       "    <tr>\n",
       "      <th>ERR551360</th>\n",
       "      <td>Merker et al., 2015</td>\n",
       "      <td>Uzbekistan</td>\n",
       "      <td>Asia</td>\n",
       "      <td>Central_Asia</td>\n",
       "      <td>LIN-2</td>\n",
       "      <td>Beijing</td>\n",
       "      <td>MDR</td>\n",
       "      <td>1</td>\n",
       "      <td>1</td>\n",
       "      <td>1</td>\n",
       "      <td>1</td>\n",
       "      <td>0</td>\n",
       "      <td>0.0</td>\n",
       "      <td>0</td>\n",
       "      <td>0</td>\n",
       "      <td>4</td>\n",
       "      <td>2005</td>\n",
       "    </tr>\n",
       "  </tbody>\n",
       "</table>\n",
       "</div>"
      ],
      "text/plain": [
       "                         study country of isolation continent of isolation  \\\n",
       "Strain                                                                       \n",
       "ERR550724  Merker et al., 2015           Uzbekistan                   Asia   \n",
       "ERR550887  Merker et al., 2015           Uzbekistan                   Asia   \n",
       "ERR551159  Merker et al., 2015           Uzbekistan                   Asia   \n",
       "ERR551305  Merker et al., 2015           Uzbekistan                   Asia   \n",
       "ERR551360  Merker et al., 2015           Uzbekistan                   Asia   \n",
       "\n",
       "          United Nations Geographic Region lineage spoligotype  \\\n",
       "Strain                                                           \n",
       "ERR550724                     Central_Asia   LIN-2     Beijing   \n",
       "ERR550887                     Central_Asia   LIN-2     Beijing   \n",
       "ERR551159                     Central_Asia   LIN-2     Beijing   \n",
       "ERR551305                     Central_Asia   LIN-2     Beijing   \n",
       "ERR551360                     Central_Asia   LIN-2     Beijing   \n",
       "\n",
       "          computationally predicted drug resistance profile  INH  STR  RIF  \\\n",
       "Strain                                                                       \n",
       "ERR550724                                               MDR    1    1    1   \n",
       "ERR550887                                               MDR    1    1    1   \n",
       "ERR551159                                               MDR    1    1    1   \n",
       "ERR551305                                               MDR    1    1    1   \n",
       "ERR551360                                               MDR    1    1    1   \n",
       "\n",
       "           EMB  ETH  PZA  OFL  KAN  total # of resistances  \\\n",
       "Strain                                                       \n",
       "ERR550724    1    0  0.0    0    0                       4   \n",
       "ERR550887    1    0  0.0    0    0                       4   \n",
       "ERR551159    0    0  0.0    0    0                       3   \n",
       "ERR551305    1    0  0.0    0    0                       4   \n",
       "ERR551360    1    0  0.0    0    0                       4   \n",
       "\n",
       "          isolation date (or date range)  \n",
       "Strain                                    \n",
       "ERR550724                           2005  \n",
       "ERR550887                           2005  \n",
       "ERR551159                           2004  \n",
       "ERR551305                           2005  \n",
       "ERR551360                           2005  "
      ]
     },
     "execution_count": 7,
     "metadata": {},
     "output_type": "execute_result"
    }
   ],
   "source": [
    "publication_globallyDiverse.head()"
   ]
  },
  {
   "cell_type": "code",
   "execution_count": 8,
   "metadata": {},
   "outputs": [],
   "source": [
    "MAL_STUDY = \"\"\"Mycobacterium africanum MAL010070.1\n",
    "    Mycobacterium africanum MAL010071.1\n",
    "    Mycobacterium africanum MAL010074.1\n",
    "    Mycobacterium africanum MAL010079.1\n",
    "    Mycobacterium africanum MAL010081.1\n",
    "    Mycobacterium africanum MAL010084.1\n",
    "    Mycobacterium africanum MAL010099.1\n",
    "    Mycobacterium africanum MAL010100.1\n",
    "    Mycobacterium africanum MAL010102.1\n",
    "    Mycobacterium africanum MAL010111.1\n",
    "    Mycobacterium africanum MAL010112.1\n",
    "    Mycobacterium africanum MAL010118.1\n",
    "    Mycobacterium africanum MAL010120.1\n",
    "    Mycobacterium africanum MAL010123.1\n",
    "    Mycobacterium africanum MAL010128.1\n",
    "    Mycobacterium africanum MAL010129.1\n",
    "    Mycobacterium africanum MAL010131.1\n",
    "    Mycobacterium africanum MAL010136.1\n",
    "    Mycobacterium africanum MAL010137.1\n",
    "    Mycobacterium africanum MAL020107.1\n",
    "    Mycobacterium africanum MAL020130.1\n",
    "    Mycobacterium africanum MAL020135.1\n",
    "    Mycobacterium africanum MAL020148.1\n",
    "    Mycobacterium africanum MAL020173.1\n",
    "    Mycobacterium africanum MAL020176.1\n",
    "    Mycobacterium africanum MAL020185.1\n",
    "    Mycobacterium bovis MAL010093.1\n",
    "    Mycobacterium tuberculosis MAL010075.1\n",
    "    Mycobacterium tuberculosis MAL010077.1\n",
    "    Mycobacterium tuberculosis MAL010078.1\n",
    "    Mycobacterium tuberculosis MAL010080.1\n",
    "    Mycobacterium tuberculosis MAL010086.1\n",
    "    Mycobacterium tuberculosis MAL010087.1\n",
    "    Mycobacterium tuberculosis MAL010088.1\n",
    "    Mycobacterium tuberculosis MAL010103.1\n",
    "    Mycobacterium tuberculosis MAL010105.1\n",
    "    Mycobacterium tuberculosis MAL010106.1\n",
    "    Mycobacterium tuberculosis MAL010108.1\n",
    "    Mycobacterium tuberculosis MAL010109.1\n",
    "    Mycobacterium tuberculosis MAL010110.1\n",
    "    Mycobacterium tuberculosis MAL010117.1\n",
    "    Mycobacterium tuberculosis MAL010119.1\n",
    "    Mycobacterium tuberculosis MAL010121.1\n",
    "    Mycobacterium tuberculosis MAL010124.1\n",
    "    Mycobacterium tuberculosis MAL010130.1\n",
    "    Mycobacterium tuberculosis MAL010133.1\n",
    "    Mycobacterium tuberculosis MAL010134.1\n",
    "    Mycobacterium tuberculosis MAL020102.1\n",
    "    Mycobacterium tuberculosis MAL020110.1\n",
    "    Mycobacterium tuberculosis MAL020120.1\n",
    "    Mycobacterium tuberculosis MAL020131.1\n",
    "    Mycobacterium tuberculosis MAL020132.1\n",
    "    Mycobacterium tuberculosis MAL020136.1\n",
    "    Mycobacterium tuberculosis MAL020138.1\n",
    "    Mycobacterium tuberculosis MAL020139.1\n",
    "    Mycobacterium tuberculosis MAL020141.1\n",
    "    Mycobacterium tuberculosis MAL020142.1\n",
    "    Mycobacterium tuberculosis MAL020144.1\n",
    "    Mycobacterium tuberculosis MAL020145.1\n",
    "    Mycobacterium tuberculosis MAL020146.1\n",
    "    Mycobacterium tuberculosis MAL020147.1\n",
    "    Mycobacterium tuberculosis MAL020150.1\n",
    "    Mycobacterium tuberculosis MAL020151.1\n",
    "    Mycobacterium tuberculosis MAL020152.1\n",
    "    Mycobacterium tuberculosis MAL020156.1\n",
    "    Mycobacterium tuberculosis MAL020157.1\n",
    "    Mycobacterium tuberculosis MAL020160.1\n",
    "    Mycobacterium tuberculosis MAL020162.1\n",
    "    Mycobacterium tuberculosis MAL020165.1\n",
    "    Mycobacterium tuberculosis MAL020167.1\n",
    "    Mycobacterium tuberculosis MAL020172.1\n",
    "    Mycobacterium tuberculosis MAL020174.1\n",
    "    Mycobacterium tuberculosis MAL020179.1\n",
    "    Mycobacterium tuberculosis MAL020181.1\n",
    "    Mycobacterium tuberculosis MAL020182.1\n",
    "    Mycobacterium tuberculosis MAL020186.1\n",
    "    Mycobacterium tuberculosis MAL020187.1\n",
    "    Mycobacterium tuberculosis MAL020192.1\n",
    "    Mycobacterium tuberculosis MAL020193.1\n",
    "    Mycobacterium tuberculosis MAL020194.1\n",
    "    Mycobacterium tuberculosis MAL020195.1\n",
    "    Mycobacterium tuberculosis MAL020196.1\n",
    "    Mycobacterium tuberculosis MAL020197.1\n",
    "    Mycobacterium tuberculosis MAL020199.1\n",
    "    Mycobacterium tuberculosis MAL020200.1\n",
    "    Mycobacterium tuberculosis MAL020201.1\n",
    "    Mycobacterium tuberculosis MAL020202.1\n",
    "    Mycobacterium tuberculosis MAL020205.1\n",
    "    Mycobacterium tuberculosis MAL020206.1\n",
    "    Mycobacterium tuberculosis MAL020208.1\n",
    "    Mycobacterium tuberculosis MAL020209.1\n",
    "    Mycobacterium tuberculosis MAL020211.1\"\"\"\n",
    "\n",
    "tb_krith_kzn = \"\"\"\n",
    "    M. sp. TKK-01-0051.1 — Mycobacterium sp. TKK-01-0051\n",
    "    M. sp. TKK-01-0059.1 — Mycobacterium sp. TKK-01-0059\n",
    "    M. tuberculosis TKK-01-0001.1 — Mycobacterium tuberculosis TKK-01-0001\n",
    "    M. tuberculosis TKK-01-0002.1 — Mycobacterium tuberculosis TKK-01-0002\n",
    "    M. tuberculosis TKK-01-0003.1 — Mycobacterium tuberculosis TKK-01-0003\n",
    "    M. tuberculosis TKK-01-0004.1 — Mycobacterium tuberculosis TKK-01-0004\n",
    "    M. tuberculosis TKK-01-0005.1 — Mycobacterium tuberculosis TKK-01-0005\n",
    "    M. tuberculosis TKK-01-0006.1 — Mycobacterium tuberculosis TKK-01-0006\n",
    "    M. tuberculosis TKK-01-0007.1 — Mycobacterium tuberculosis TKK-01-0007\n",
    "    M. tuberculosis TKK-01-0008.1 — Mycobacterium tuberculosis TKK-01-0008\n",
    "    M. tuberculosis TKK-01-0009.1 — Mycobacterium tuberculosis TKK-01-0009\n",
    "    M. tuberculosis TKK-01-0010.1 — Mycobacterium tuberculosis TKK-01-0010\n",
    "    M. tuberculosis TKK-01-0011.1 — Mycobacterium tuberculosis TKK-01-0011\n",
    "    M. tuberculosis TKK-01-0012.1 — Mycobacterium tuberculosis TKK-01-0012\n",
    "    M. tuberculosis TKK-01-0013.1 — Mycobacterium tuberculosis TKK-01-0013\n",
    "    M. tuberculosis TKK-01-0014.1 — Mycobacterium tuberculosis TKK-01-0014\n",
    "    M. tuberculosis TKK-01-0015.1 — Mycobacterium tuberculosis TKK-01-0015\n",
    "    M. tuberculosis TKK-01-0016.1 — Mycobacterium tuberculosis TKK-01-0016\n",
    "    M. tuberculosis TKK-01-0017.1 — Mycobacterium tuberculosis TKK-01-0017\n",
    "    M. tuberculosis TKK-01-0018.1 — Mycobacterium tuberculosis TKK-01-0018\n",
    "    M. tuberculosis TKK-01-0019.1 — Mycobacterium tuberculosis TKK-01-0019\n",
    "    M. tuberculosis TKK-01-0020.1 — Mycobacterium tuberculosis TKK-01-0020\n",
    "    M. tuberculosis TKK-01-0021.1 — Mycobacterium tuberculosis TKK-01-0021\n",
    "    M. tuberculosis TKK-01-0022.1 — Mycobacterium tuberculosis TKK-01-0022\n",
    "    M. tuberculosis TKK-01-0023.1 — Mycobacterium tuberculosis TKK-01-0023\n",
    "    M. tuberculosis TKK-01-0024.1 — Mycobacterium tuberculosis TKK-01-0024\n",
    "    M. tuberculosis TKK-01-0025.1 — Mycobacterium tuberculosis TKK-01-0025\n",
    "    M. tuberculosis TKK-01-0026.1 — Mycobacterium tuberculosis TKK-01-0026\n",
    "    M. tuberculosis TKK-01-0027.1 — Mycobacterium tuberculosis TKK-01-0027\n",
    "    M. tuberculosis TKK-01-0028.1 — Mycobacterium tuberculosis TKK-01-0028\n",
    "    M. tuberculosis TKK-01-0029.1 — Mycobacterium tuberculosis TKK-01-0029\n",
    "    M. tuberculosis TKK-01-0030.1 — Mycobacterium tuberculosis TKK-01-0030\n",
    "    M. tuberculosis TKK-01-0031.1 — Mycobacterium tuberculosis TKK-01-0031\n",
    "    M. tuberculosis TKK-01-0032.1 — Mycobacterium tuberculosis TKK-01-0032\n",
    "    M. tuberculosis TKK-01-0033.1 — Mycobacterium tuberculosis TKK-01-0033\n",
    "    M. tuberculosis TKK-01-0034.1 — Mycobacterium tuberculosis TKK-01-0034\n",
    "    M. tuberculosis TKK-01-0035.1 — Mycobacterium tuberculosis TKK-01-0035\n",
    "    M. tuberculosis TKK-01-0036.1 — Mycobacterium tuberculosis TKK-01-0036\n",
    "    M. tuberculosis TKK-01-0037.1 — Mycobacterium tuberculosis TKK-01-0037\n",
    "    M. tuberculosis TKK-01-0038.1 — Mycobacterium tuberculosis TKK-01-0038\n",
    "    M. tuberculosis TKK-01-0039.1 — Mycobacterium tuberculosis TKK-01-0039\n",
    "    M. tuberculosis TKK-01-0040.1 — Mycobacterium tuberculosis TKK-01-0040\n",
    "    M. tuberculosis TKK-01-0041.1 — Mycobacterium tuberculosis TKK-01-0041\n",
    "    M. tuberculosis TKK-01-0042.1 — Mycobacterium tuberculosis TKK-01-0042\n",
    "    M. tuberculosis TKK-01-0043.1 — Mycobacterium tuberculosis TKK-01-0043\n",
    "    M. tuberculosis TKK-01-0044.1 — Mycobacterium tuberculosis TKK-01-0044\n",
    "    M. tuberculosis TKK-01-0045.1 — Mycobacterium tuberculosis TKK-01-0045\n",
    "    M. tuberculosis TKK-01-0046.1 — Mycobacterium tuberculosis TKK-01-0046\n",
    "    M. tuberculosis TKK-01-0047.1 — Mycobacterium tuberculosis TKK-01-0047\n",
    "    M. tuberculosis TKK-01-0048.1 — Mycobacterium tuberculosis TKK-01-0048\n",
    "    M. tuberculosis TKK-01-0049.1 — Mycobacterium tuberculosis TKK-01-0049\n",
    "    M. tuberculosis TKK-01-0050.1 — Mycobacterium tuberculosis TKK-01-0050\n",
    "    M. tuberculosis TKK-01-0052.1 — Mycobacterium tuberculosis TKK-01-0052\n",
    "    M. tuberculosis TKK-01-0053.1 — Mycobacterium tuberculosis TKK-01-0053\n",
    "    M. tuberculosis TKK-01-0054.1 — Mycobacterium tuberculosis TKK-01-0054\n",
    "    M. tuberculosis TKK-01-0055.1 — Mycobacterium tuberculosis TKK-01-0055\n",
    "    M. tuberculosis TKK-01-0056.1 — Mycobacterium tuberculosis TKK-01-0056\n",
    "    M. tuberculosis TKK-01-0057.1 — Mycobacterium tuberculosis TKK-01-0057\n",
    "    M. tuberculosis TKK-01-0058.1 — Mycobacterium tuberculosis TKK-01-0058\n",
    "    M. tuberculosis TKK-01-0060.1 — Mycobacterium tuberculosis TKK-01-0060\n",
    "    M. tuberculosis TKK-01-0061.1 — Mycobacterium tuberculosis TKK-01-0061\n",
    "    M. tuberculosis TKK-01-0062.1 — Mycobacterium tuberculosis TKK-01-0062\n",
    "    M. tuberculosis TKK-01-0063.1 — Mycobacterium tuberculosis TKK-01-0063\n",
    "    M. tuberculosis TKK-01-0064.1 — Mycobacterium tuberculosis TKK-01-0064\n",
    "    M. tuberculosis TKK-01-0065.1 — Mycobacterium tuberculosis TKK-01-0065\n",
    "    M. tuberculosis TKK-01-0066.1 — Mycobacterium tuberculosis TKK-01-0066\n",
    "    M. tuberculosis TKK-01-0067.1 — Mycobacterium tuberculosis TKK-01-0067\n",
    "    M. tuberculosis TKK-01-0068.1 — Mycobacterium tuberculosis TKK-01-0068\n",
    "    M. tuberculosis TKK-01-0069.1 — Mycobacterium tuberculosis TKK-01-0069\n",
    "    M. tuberculosis TKK-01-0070.1 — Mycobacterium tuberculosis TKK-01-0070\n",
    "    M. tuberculosis TKK-01-0071.1 — Mycobacterium tuberculosis TKK-01-0071\n",
    "    M. tuberculosis TKK-01-0072.1 — Mycobacterium tuberculosis TKK-01-0072\n",
    "    M. tuberculosis TKK-01-0073.1 — Mycobacterium tuberculosis TKK-01-0073\n",
    "    M. tuberculosis TKK-01-0074.1 — Mycobacterium tuberculosis TKK-01-0074\n",
    "    M. tuberculosis TKK-01-0075.1 — Mycobacterium tuberculosis TKK-01-0075\n",
    "    M. tuberculosis TKK-01-0076.1 — Mycobacterium tuberculosis TKK-01-0076\n",
    "    M. tuberculosis TKK-01-0077.1 — Mycobacterium tuberculosis TKK-01-0077\n",
    "    M. tuberculosis TKK-01-0078.1 — Mycobacterium tuberculosis TKK-01-0078\n",
    "    M. tuberculosis TKK-01-0079.1 — Mycobacterium tuberculosis TKK-01-0079\n",
    "    M. tuberculosis TKK-01-0080.1 — Mycobacterium tuberculosis TKK-01-0080\n",
    "    M. tuberculosis TKK-01-0081.1 — Mycobacterium tuberculosis TKK-01-0081\n",
    "    M. tuberculosis TKK-01-0082.1 — Mycobacterium tuberculosis TKK-01-0082\n",
    "    M. tuberculosis TKK-01-0083.1 — Mycobacterium tuberculosis TKK-01-0083\n",
    "    M. tuberculosis TKK-01-0084.1 — Mycobacterium tuberculosis TKK-01-0084\n",
    "    M. tuberculosis TKK-01-0085.1 — Mycobacterium tuberculosis TKK-01-0085\n",
    "    M. tuberculosis TKK-01-0086.1 — Mycobacterium tuberculosis TKK-01-0086\n",
    "    M. tuberculosis TKK-01-0087.1 — Mycobacterium tuberculosis TKK-01-0087\n",
    "    M. tuberculosis TKK-01-0088.1 — Mycobacterium tuberculosis TKK-01-0088\n",
    "    M. tuberculosis TKK-01-0089.1 — Mycobacterium tuberculosis TKK-01-0089\n",
    "    M. tuberculosis TKK-01-0090.1 — Mycobacterium tuberculosis TKK-01-0090\n",
    "    M. tuberculosis TKK-01-0091.1 — Mycobacterium tuberculosis TKK-01-0091\n",
    "    M. tuberculosis TKK-01-0092.1 — Mycobacterium tuberculosis TKK-01-0092\n",
    "    M. tuberculosis TKK-01-0093.1 — Mycobacterium tuberculosis TKK-01-0093\n",
    "    M. tuberculosis TKK-01-0094.1 — Mycobacterium tuberculosis TKK-01-0094\n",
    "    M. tuberculosis TKK_02_0001.1 — Mycobacterium tuberculosis TKK_02_0001\n",
    "    M. tuberculosis TKK_02_0002.1 — Mycobacterium tuberculosis TKK_02_0002\n",
    "    M. tuberculosis TKK_02_0003.1 — Mycobacterium tuberculosis TKK_02_0003\n",
    "    M. tuberculosis TKK_02_0004.1 — Mycobacterium tuberculosis TKK_02_0004\n",
    "    M. tuberculosis TKK_02_0005.1 — Mycobacterium tuberculosis TKK_02_0005\n",
    "    M. tuberculosis TKK_02_0006.1 — Mycobacterium tuberculosis TKK_02_0006\n",
    "    M. tuberculosis TKK_02_0007.1 — Mycobacterium tuberculosis TKK_02_0007\n",
    "    M. tuberculosis TKK_02_0008.1 — Mycobacterium tuberculosis TKK_02_0008\n",
    "    M. tuberculosis TKK_02_0009.1 — Mycobacterium tuberculosis TKK_02_0009\n",
    "    M. tuberculosis TKK_02_0010.1 — Mycobacterium tuberculosis TKK_02_0010\n",
    "    M. tuberculosis TKK_02_0011.1 — Mycobacterium tuberculosis TKK_02_0011\n",
    "    M. tuberculosis TKK_02_0012.1 — Mycobacterium tuberculosis TKK_02_0012\n",
    "    M. tuberculosis TKK_02_0013.1 — Mycobacterium tuberculosis TKK_02_0013\n",
    "    M. tuberculosis TKK_02_0014.1 — Mycobacterium tuberculosis TKK_02_0014\n",
    "    M. tuberculosis TKK_02_0015.1 — Mycobacterium tuberculosis TKK_02_0015\n",
    "    M. tuberculosis TKK_02_0016.1 — Mycobacterium tuberculosis TKK_02_0016\n",
    "    M. tuberculosis TKK_02_0017.1 — Mycobacterium tuberculosis TKK_02_0017\n",
    "    M. tuberculosis TKK_02_0018.1 — Mycobacterium tuberculosis TKK_02_0018\n",
    "    M. tuberculosis TKK_02_0019.1 — Mycobacterium tuberculosis TKK_02_0019\n",
    "    M. tuberculosis TKK_02_0020.1 — Mycobacterium tuberculosis TKK_02_0020\n",
    "    M. tuberculosis TKK_02_0021.1 — Mycobacterium tuberculosis TKK_02_0021\n",
    "    M. tuberculosis TKK_02_0022.1 — Mycobacterium tuberculosis TKK_02_0022\n",
    "    M. tuberculosis TKK_02_0023.1 — Mycobacterium tuberculosis TKK_02_0023\n",
    "    M. tuberculosis TKK_02_0024.1 — Mycobacterium tuberculosis TKK_02_0024\n",
    "    M. tuberculosis TKK_02_0025.1 — Mycobacterium tuberculosis TKK_02_0025\n",
    "    M. tuberculosis TKK_02_0026.1 — Mycobacterium tuberculosis TKK_02_0026\n",
    "    M. tuberculosis TKK_02_0027.1 — Mycobacterium tuberculosis TKK_02_0027\n",
    "    M. tuberculosis TKK_02_0028.1 — Mycobacterium tuberculosis TKK_02_0028\n",
    "    M. tuberculosis TKK_02_0029.1 — Mycobacterium tuberculosis TKK_02_0029\n",
    "    M. tuberculosis TKK_02_0030.1 — Mycobacterium tuberculosis TKK_02_0030\n",
    "    M. tuberculosis TKK_02_0031.1 — Mycobacterium tuberculosis TKK_02_0031\n",
    "    M. tuberculosis TKK_02_0033.1 — Mycobacterium tuberculosis TKK_02_0033\n",
    "    M. tuberculosis TKK_02_0034.1 — Mycobacterium tuberculosis TKK_02_0034\n",
    "    M. tuberculosis TKK_02_0035.1 — Mycobacterium tuberculosis TKK_02_0035\n",
    "    M. tuberculosis TKK_02_0036.1 — Mycobacterium tuberculosis TKK_02_0036\n",
    "    M. tuberculosis TKK_02_0037.1 — Mycobacterium tuberculosis TKK_02_0037\n",
    "    M. tuberculosis TKK_02_0038.1 — Mycobacterium tuberculosis TKK_02_0038\n",
    "    M. tuberculosis TKK_02_0039.1 — Mycobacterium tuberculosis TKK_02_0039\n",
    "    M. tuberculosis TKK_02_0040.1 — Mycobacterium tuberculosis TKK_02_0040\n",
    "    M. tuberculosis TKK_02_0041.1 — Mycobacterium tuberculosis TKK_02_0041\n",
    "    M. tuberculosis TKK_02_0042.1 — Mycobacterium tuberculosis TKK_02_0042\n",
    "    M. tuberculosis TKK_02_0043.1 — Mycobacterium tuberculosis TKK_02_0043\n",
    "    M. tuberculosis TKK_02_0044.1 — Mycobacterium tuberculosis TKK_02_0044\n",
    "    M. tuberculosis TKK_02_0045.1 — Mycobacterium tuberculosis TKK_02_0045\n",
    "    M. tuberculosis TKK_02_0046.1 — Mycobacterium tuberculosis TKK_02_0046\n",
    "    M. tuberculosis TKK_02_0047.1 — Mycobacterium tuberculosis TKK_02_0047\n",
    "    M. tuberculosis TKK_02_0048.1 — Mycobacterium tuberculosis TKK_02_0048\n",
    "    M. tuberculosis TKK_02_0049.1 — Mycobacterium tuberculosis TKK_02_0049\n",
    "    M. tuberculosis TKK_02_0050.1 — Mycobacterium tuberculosis TKK_02_0050\n",
    "    M. tuberculosis TKK_02_0051.1 — Mycobacterium tuberculosis TKK_02_0051\n",
    "    M. tuberculosis TKK_02_0052.1 — Mycobacterium tuberculosis TKK_02_0052\n",
    "    M. tuberculosis TKK_02_0053.1 — Mycobacterium tuberculosis TKK_02_0053\n",
    "    M. tuberculosis TKK_02_0055.1 — Mycobacterium tuberculosis TKK_02_0055\n",
    "    M. tuberculosis TKK_02_0056.1 — Mycobacterium tuberculosis TKK_02_0056\n",
    "    M. tuberculosis TKK_02_0057.1 — Mycobacterium tuberculosis TKK_02_0057\n",
    "    M. tuberculosis TKK_02_0058.1 — Mycobacterium tuberculosis TKK_02_0058\n",
    "    M. tuberculosis TKK_02_0059.1 — Mycobacterium tuberculosis TKK_02_0059\n",
    "    M. tuberculosis TKK_02_0060.1 — Mycobacterium tuberculosis TKK_02_0060\n",
    "    M. tuberculosis TKK_02_0061.1 — Mycobacterium tuberculosis TKK_02_0061\n",
    "    M. tuberculosis TKK_02_0062.1 — Mycobacterium tuberculosis TKK_02_0062\n",
    "    M. tuberculosis TKK_02_0063.1 — Mycobacterium tuberculosis TKK_02_0063\n",
    "    M. tuberculosis TKK_02_0065.1 — Mycobacterium tuberculosis TKK_02_0065\n",
    "    M. tuberculosis TKK_02_0066.1 — Mycobacterium tuberculosis TKK_02_0066\n",
    "    M. tuberculosis TKK_02_0067.1 — Mycobacterium tuberculosis TKK_02_0067\n",
    "    M. tuberculosis TKK_02_0068.1 — Mycobacterium tuberculosis TKK_02_0068\n",
    "    M. tuberculosis TKK_02_0069.1 — Mycobacterium tuberculosis TKK_02_0069\n",
    "    M. tuberculosis TKK_02_0070.1 — Mycobacterium tuberculosis TKK_02_0070\n",
    "    M. tuberculosis TKK_02_0071.1 — Mycobacterium tuberculosis TKK_02_0071\n",
    "    M. tuberculosis TKK_02_0073.1 — Mycobacterium tuberculosis TKK_02_0073\n",
    "    M. tuberculosis TKK_02_0074.1 — Mycobacterium tuberculosis TKK_02_0074\n",
    "    M. tuberculosis TKK_02_0075.1 — Mycobacterium tuberculosis TKK_02_0075\n",
    "    M. tuberculosis TKK_02_0076.1 — Mycobacterium tuberculosis TKK_02_0076\n",
    "    M. tuberculosis TKK_02_0077.1 — Mycobacterium tuberculosis TKK_02_0077\n",
    "    M. tuberculosis TKK_02_0079.1 — Mycobacterium tuberculosis TKK_02_0079\n",
    "    M. tuberculosis TKK_02_0080.1 — Mycobacterium tuberculosis TKK_02_0080\n",
    "    M. tuberculosis TKK_03_0018.1 — Mycobacterium tuberculosis TKK_03_0018\n",
    "    M. tuberculosis TKK_03_0020.1 — Mycobacterium tuberculosis TKK_03_0020\n",
    "    M. tuberculosis TKK_03_0022.1 — Mycobacterium tuberculosis TKK_03_0022\n",
    "    M. tuberculosis TKK_03_0025.1 — Mycobacterium tuberculosis TKK_03_0025\n",
    "    M. tuberculosis TKK_03_0026.1 — Mycobacterium tuberculosis TKK_03_0026\n",
    "    M. tuberculosis TKK_03_0027.1 — Mycobacterium tuberculosis TKK_03_0027\n",
    "    M. tuberculosis TKK_03_0029.1 — Mycobacterium tuberculosis TKK_03_0029\n",
    "    M. tuberculosis TKK_03_0030.1 — Mycobacterium tuberculosis TKK_03_0030\n",
    "    M. tuberculosis TKK_03_0031.1 — Mycobacterium tuberculosis TKK_03_0031\n",
    "    M. tuberculosis TKK_03_0033.1 — Mycobacterium tuberculosis TKK_03_0033\n",
    "    M. tuberculosis TKK_03_0034.1 — Mycobacterium tuberculosis TKK_03_0034\n",
    "    M. tuberculosis TKK_03_0036.1 — Mycobacterium tuberculosis TKK_03_0036\n",
    "    M. tuberculosis TKK_03_0043.1 — Mycobacterium tuberculosis TKK_03_0043\n",
    "    M. tuberculosis TKK_03_0045.1 — Mycobacterium tuberculosis TKK_03_0045\n",
    "    M. tuberculosis TKK_03_0078.1 — Mycobacterium tuberculosis TKK_03_0078\n",
    "    M. tuberculosis TKK_03_0081.1 — Mycobacterium tuberculosis TKK_03_0081\n",
    "    M. tuberculosis TKK_03_0082.1 — Mycobacterium tuberculosis TKK_03_0082\n",
    "    M. tuberculosis TKK_04_0001.1 — Mycobacterium tuberculosis TKK_04_0001\n",
    "    M. tuberculosis TKK_04_0002.1 — Mycobacterium tuberculosis TKK_04_0002\n",
    "    M. tuberculosis TKK_04_0003.1 — Mycobacterium tuberculosis TKK_04_0003\n",
    "    M. tuberculosis TKK_04_0005.1 — Mycobacterium tuberculosis TKK_04_0005\n",
    "    M. tuberculosis TKK_04_0006.1 — Mycobacterium tuberculosis TKK_04_0006\n",
    "    M. tuberculosis TKK_04_0007.1 — Mycobacterium tuberculosis TKK_04_0007\n",
    "    M. tuberculosis TKK_04_0008.1 — Mycobacterium tuberculosis TKK_04_0008\n",
    "    M. tuberculosis TKK_04_0013.1 — Mycobacterium tuberculosis TKK_04_0013\n",
    "    M. tuberculosis TKK_04_0014.1 — Mycobacterium tuberculosis TKK_04_0014\n",
    "    M. tuberculosis TKK_04_0015.1 — Mycobacterium tuberculosis TKK_04_0015\n",
    "    M. tuberculosis TKK_04_0017.1 — Mycobacterium tuberculosis TKK_04_0017\n",
    "    M. tuberculosis TKK_04_0018.1 — Mycobacterium tuberculosis TKK_04_0018\n",
    "    M. tuberculosis TKK_04_0019.1 — Mycobacterium tuberculosis TKK_04_0019\n",
    "    M. tuberculosis TKK_04_0020.1 — Mycobacterium tuberculosis TKK_04_0020\n",
    "    M. tuberculosis TKK_04_0021.1 — Mycobacterium tuberculosis TKK_04_0021\n",
    "    M. tuberculosis TKK_04_0022.1 — Mycobacterium tuberculosis TKK_04_0022\n",
    "    M. tuberculosis TKK_04_0023.1 — Mycobacterium tuberculosis TKK_04_0023\n",
    "    M. tuberculosis TKK_04_0024.1 — Mycobacterium tuberculosis TKK_04_0024\n",
    "    M. tuberculosis TKK_04_0029.1 — Mycobacterium tuberculosis TKK_04_0029\n",
    "    M. tuberculosis TKK_04_0030.1 — Mycobacterium tuberculosis TKK_04_0030\n",
    "    M. tuberculosis TKK_04_0031.1 — Mycobacterium tuberculosis TKK_04_0031\n",
    "    M. tuberculosis TKK_04_0033.1 — Mycobacterium tuberculosis TKK_04_0033\n",
    "    M. tuberculosis TKK_04_0034.1 — Mycobacterium tuberculosis TKK_04_0034\n",
    "    M. tuberculosis TKK_04_0036.1 — Mycobacterium tuberculosis TKK_04_0036\n",
    "    M. tuberculosis TKK_04_0037.1 — Mycobacterium tuberculosis TKK_04_0037\n",
    "    M. tuberculosis TKK_04_0038.1 — Mycobacterium tuberculosis TKK_04_0038\n",
    "    M. tuberculosis TKK_04_0039.1 — Mycobacterium tuberculosis TKK_04_0039\n",
    "    M. tuberculosis TKK_04_0040.1 — Mycobacterium tuberculosis TKK_04_0040\n",
    "    M. tuberculosis TKK_04_0042.1 — Mycobacterium tuberculosis TKK_04_0042\n",
    "    M. tuberculosis TKK_04_0043.1 — Mycobacterium tuberculosis TKK_04_0043\n",
    "    M. tuberculosis TKK_04_0044.1 — Mycobacterium tuberculosis TKK_04_0044\n",
    "    M. tuberculosis TKK_04_0045.1 — Mycobacterium tuberculosis TKK_04_0045\n",
    "    M. tuberculosis TKK_04_0046.1 — Mycobacterium tuberculosis TKK_04_0046\n",
    "    M. tuberculosis TKK_04_0047.1 — Mycobacterium tuberculosis TKK_04_0047\n",
    "    M. tuberculosis TKK_04_0048.1 — Mycobacterium tuberculosis TKK_04_0048\n",
    "\"\"\"\n",
    "\n",
    "tb_arc_ntu_taiwan2 = \"\"\"\n",
    "    M. tuberculosis cdc1551.1 — Mycobacterium tuberculosis cdc1551\n",
    "    M. tuberculosis Erdman.1 — Mycobacterium tuberculosis Erdman\n",
    "    M. tuberculosis OFXR-1.1 — Mycobacterium tuberculosis OFXR-1\n",
    "    M. tuberculosis OFXR-10.1 — Mycobacterium tuberculosis OFXR-10\n",
    "    M. tuberculosis OFXR-11.1 — Mycobacterium tuberculosis OFXR-11\n",
    "    M. tuberculosis OFXR-12.1 — Mycobacterium tuberculosis OFXR-12\n",
    "    M. tuberculosis OFXR-13.1 — Mycobacterium tuberculosis OFXR-13\n",
    "    M. tuberculosis OFXR-14.1 — Mycobacterium tuberculosis OFXR-14\n",
    "    M. tuberculosis OFXR-15.1 — Mycobacterium tuberculosis OFXR-15\n",
    "    M. tuberculosis OFXR-16.1 — Mycobacterium tuberculosis OFXR-16\n",
    "    M. tuberculosis OFXR-17.1 — Mycobacterium tuberculosis OFXR-17\n",
    "    M. tuberculosis OFXR-18.1 — Mycobacterium tuberculosis OFXR-18\n",
    "    M. tuberculosis OFXR-19.1 — Mycobacterium tuberculosis OFXR-19\n",
    "    M. tuberculosis OFXR-2.1 — Mycobacterium tuberculosis OFXR-2\n",
    "    M. tuberculosis OFXR-20.1 — Mycobacterium tuberculosis OFXR-20\n",
    "    M. tuberculosis OFXR-21.1 — Mycobacterium tuberculosis OFXR-21\n",
    "    M. tuberculosis OFXR-22.1 — Mycobacterium tuberculosis OFXR-22\n",
    "    M. tuberculosis OFXR-23.1 — Mycobacterium tuberculosis OFXR-23\n",
    "    M. tuberculosis OFXR-25.1 — Mycobacterium tuberculosis OFXR-25\n",
    "    M. tuberculosis OFXR-26.1 — Mycobacterium tuberculosis OFXR-26\n",
    "    M. tuberculosis OFXR-27.1 — Mycobacterium tuberculosis OFXR-27\n",
    "    M. tuberculosis OFXR-28.1 — Mycobacterium tuberculosis OFXR-28\n",
    "    M. tuberculosis OFXR-29.1 — Mycobacterium tuberculosis OFXR-29\n",
    "    M. tuberculosis OFXR-3.1 — Mycobacterium tuberculosis OFXR-3\n",
    "    M. tuberculosis OFXR-30.1 — Mycobacterium tuberculosis OFXR-30\n",
    "    M. tuberculosis OFXR-31.1 — Mycobacterium tuberculosis OFXR-31\n",
    "    M. tuberculosis OFXR-32.1 — Mycobacterium tuberculosis OFXR-32\n",
    "    M. tuberculosis OFXR-33.1 — Mycobacterium tuberculosis OFXR-33\n",
    "    M. tuberculosis OFXR-4.1 — Mycobacterium tuberculosis OFXR-4\n",
    "    M. tuberculosis OFXR-5.1 — Mycobacterium tuberculosis OFXR-5\n",
    "    M. tuberculosis OFXR-6.1 — Mycobacterium tuberculosis OFXR-6\n",
    "    M. tuberculosis OFXR-7.1 — Mycobacterium tuberculosis OFXR-7\n",
    "    M. tuberculosis OFXR-8.1 — Mycobacterium tuberculosis OFXR-8\n",
    "    M. tuberculosis OFXR-9.1 — Mycobacterium tuberculosis OFXR-9\n",
    "    Mycobacterium tuberculosis 36361.1\n",
    "    Mycobacterium tuberculosis 38088.1\n",
    "    Mycobacterium tuberculosis 38765.1\n",
    "    Mycobacterium tuberculosis 44503.1\n",
    "    Mycobacterium tuberculosis 49375.1\n",
    "    Mycobacterium tuberculosis 51628.1\n",
    "\"\"\"\n",
    "\n",
    "tb_arc_cdrc1 = \"\"\"\n",
    "    Mycobacterium tuberculosis KT-0001.1\n",
    "    Mycobacterium tuberculosis KT-0002.1\n",
    "    Mycobacterium tuberculosis KT-0003.1\n",
    "    Mycobacterium tuberculosis KT- 0004.1\n",
    "    Mycobacterium tuberculosis KT-0006.1\n",
    "    Mycobacterium tuberculosis KT-0007.1\n",
    "    Mycobacterium tuberculosis KT-0008.1\n",
    "    Mycobacterium tuberculosis KT- 0010.1\n",
    "    Mycobacterium tuberculosis KT-0011.1\n",
    "    Mycobacterium tuberculosis KT- 0012.1\n",
    "    Mycobacterium tuberculosis KT-0013.1\n",
    "    Mycobacterium tuberculosis KT-0014.1\n",
    "    Mycobacterium tuberculosis KT-0015.1\n",
    "    Mycobacterium tuberculosis KT-0016.1\n",
    "    Mycobacterium tuberculosis KT-0017.1\n",
    "    Mycobacterium tuberculosis KT- 0018.1\n",
    "    Mycobacterium tuberculosis KT-0019.1\n",
    "    Mycobacterium tuberculosis KT- 0020.1\n",
    "    Mycobacterium tuberculosis KT-0022.1\n",
    "    Mycobacterium tuberculosis KT-0023.1\n",
    "    Mycobacterium tuberculosis KT-0024.1\n",
    "    Mycobacterium tuberculosis KT- 0025.1\n",
    "    Mycobacterium tuberculosis KT-0026.1\n",
    "    Mycobacterium tuberculosis KT-0027.1\n",
    "    Mycobacterium tuberculosis KT-0028.1\n",
    "    Mycobacterium tuberculosis KT- 0029.1\n",
    "    Mycobacterium tuberculosis KT-0030.1\n",
    "    Mycobacterium tuberculosis KT- 0031.1\n",
    "    Mycobacterium tuberculosis KT- 0032.1\n",
    "    Mycobacterium tuberculosis KT-0033.1\n",
    "    Mycobacterium tuberculosis KT-0034.1\n",
    "    Mycobacterium tuberculosis KT-0035.1\n",
    "    Mycobacterium tuberculosis KT-0037.1\n",
    "    Mycobacterium tuberculosis KT-0038.1\n",
    "    Mycobacterium tuberculosis KT-0039.1\n",
    "    Mycobacterium tuberculosis KT-0040.1\n",
    "    Mycobacterium tuberculosis KT-0041.1\n",
    "    Mycobacterium tuberculosis KT-0042.1\n",
    "    Mycobacterium tuberculosis KT-0043.1\n",
    "    Mycobacterium tuberculosis KT-0044.1\n",
    "    Mycobacterium tuberculosis KT-0045.1\n",
    "    Mycobacterium tuberculosis KT-0047.1\n",
    "    Mycobacterium tuberculosis KT-0048.1\n",
    "    Mycobacterium tuberculosis KT-0049.1\n",
    "    Mycobacterium tuberculosis KT-0050.1\n",
    "    Mycobacterium tuberculosis KT-0051.1\n",
    "    Mycobacterium tuberculosis KT-0052.1\n",
    "    Mycobacterium tuberculosis KT-0053.1\n",
    "    Mycobacterium tuberculosis KT-0054.1\n",
    "    Mycobacterium tuberculosis KT-0055.1\n",
    "    Mycobacterium tuberculosis KT-0056.1\n",
    "    Mycobacterium tuberculosis KT-0057.1\n",
    "    Mycobacterium tuberculosis KT-0058.1\n",
    "    Mycobacterium tuberculosis KT-0060.1\n",
    "    Mycobacterium tuberculosis KT-0061.1\n",
    "    Mycobacterium tuberculosis KT-0063.1\n",
    "    Mycobacterium tuberculosis KT-0064.1\n",
    "    Mycobacterium tuberculosis KT-0067.1\n",
    "    Mycobacterium tuberculosis KT-0068.1\n",
    "    Mycobacterium tuberculosis KT-0069.1\n",
    "    Mycobacterium tuberculosis KT-0070.1\n",
    "    Mycobacterium tuberculosis KT-0071.1\n",
    "    Mycobacterium tuberculosis KT-0072.1\n",
    "    Mycobacterium tuberculosis KT-0074.1\n",
    "    Mycobacterium tuberculosis KT-0075.1\n",
    "    Mycobacterium tuberculosis KT-0077.1\n",
    "    Mycobacterium tuberculosis KT-0078.1\n",
    "    Mycobacterium tuberculosis KT-0079.1\n",
    "    Mycobacterium tuberculosis KT-0080.1\n",
    "    Mycobacterium tuberculosis KT-0081.1\n",
    "    Mycobacterium tuberculosis KT-0082.1\n",
    "    Mycobacterium tuberculosis KT-0083.1\n",
    "    Mycobacterium tuberculosis KT-0084.1\n",
    "    Mycobacterium tuberculosis KT-0085.1\n",
    "    Mycobacterium tuberculosis KT-0086.1\n",
    "    Mycobacterium tuberculosis KT-0087.1\n",
    "    Mycobacterium tuberculosis KT-0089.1\n",
    "    Mycobacterium tuberculosis KT-0091.1\n",
    "    Mycobacterium tuberculosis KT-0092.1\n",
    "    Mycobacterium tuberculosis KT-0094.1\n",
    "    Mycobacterium tuberculosis KT-0096.1\n",
    "    Mycobacterium tuberculosis KT-0098.1\n",
    "    Mycobacterium tuberculosis KT-0099.1\n",
    "    Mycobacterium tuberculosis KT-0100.1\n",
    "    Mycobacterium tuberculosis KT-0102.1\n",
    "    Mycobacterium tuberculosis KT-0104.1\n",
    "    Mycobacterium tuberculosis KT-0106.1\n",
    "    Mycobacterium tuberculosis KT-0107.1\n",
    "    Mycobacterium tuberculosis KT-0108.1\n",
    "    Mycobacterium tuberculosis KT-0109.1\n",
    "    Mycobacterium tuberculosis KT-0110.1\n",
    "    Mycobacterium tuberculosis SK-B.1\n",
    "    Mycobacterium tuberculosis SK-C.1\n",
    "    Mycobacterium tuberculosis SK-E.1\n",
    "    Mycobacterium tuberculosis UG-C.1\n",
    "    Mycobacterium tuberculosis UG-D.1\n",
    "    Mycobacterium tuberculosis UT0001.1\n",
    "    Mycobacterium tuberculosis UT0002.1\n",
    "    Mycobacterium tuberculosis UT0003.1\n",
    "    Mycobacterium tuberculosis UT0004.1\n",
    "    Mycobacterium tuberculosis UT0006.1\n",
    "    Mycobacterium tuberculosis UT0009.1\n",
    "    Mycobacterium tuberculosis UT0014.1\n",
    "    Mycobacterium tuberculosis UT0015.1\n",
    "    Mycobacterium tuberculosis UT0016.1\n",
    "    Mycobacterium tuberculosis UT0017.1\n",
    "    Mycobacterium tuberculosis UT0020.1\n",
    "    Mycobacterium tuberculosis UT0022.1\n",
    "    Mycobacterium tuberculosis UT0024.1\n",
    "    Mycobacterium tuberculosis UT0026.1\n",
    "    Mycobacterium tuberculosis UT0028.1\n",
    "    Mycobacterium tuberculosis UT0030.1\n",
    "    Mycobacterium tuberculosis UT0032.1\n",
    "    Mycobacterium tuberculosis UT0034.1\n",
    "    Mycobacterium tuberculosis UT0036.1\n",
    "    Mycobacterium tuberculosis UT0037.1\n",
    "    Mycobacterium tuberculosis UT0038.1\n",
    "    Mycobacterium tuberculosis UT0040.1\n",
    "    Mycobacterium tuberculosis UT0041.1\n",
    "    Mycobacterium tuberculosis UT0043.1\n",
    "    Mycobacterium tuberculosis UT0044.1\n",
    "    Mycobacterium tuberculosis UT0045.1\n",
    "    Mycobacterium tuberculosis UT0046.1\n",
    "    Mycobacterium tuberculosis UT0047.1\n",
    "    Mycobacterium tuberculosis UT0048.1\n",
    "    Mycobacterium tuberculosis UT0049.1\n",
    "    Mycobacterium tuberculosis UT0050.1\n",
    "    Mycobacterium tuberculosis UT0051.1\n",
    "    Mycobacterium tuberculosis UT0052.1\n",
    "    Mycobacterium tuberculosis UT0053.1\n",
    "    Mycobacterium tuberculosis UT0054.1\n",
    "    Mycobacterium tuberculosis UT0055.1\n",
    "    Mycobacterium tuberculosis UT0056.1\n",
    "    Mycobacterium tuberculosis UT0057.1\n",
    "    Mycobacterium tuberculosis UT0058.1\n",
    "    Mycobacterium tuberculosis UT0059.1\n",
    "    Mycobacterium tuberculosis UT0060.1\n",
    "    Mycobacterium tuberculosis UT0067.1\n",
    "    Mycobacterium tuberculosis UT0069.1\n",
    "    Mycobacterium tuberculosis UT0070.1\n",
    "    Mycobacterium tuberculosis UT0071.1\n",
    "    Mycobacterium tuberculosis UT0073.1\n",
    "    Mycobacterium tuberculosis UT0074.1\n",
    "    Mycobacterium tuberculosis UT0075.1\n",
    "    Mycobacterium tuberculosis UT0077.1\n",
    "    Mycobacterium tuberculosis UT0079.1\n",
    "    Mycobacterium tuberculosis UT0080.1\n",
    "    Mycobacterium tuberculosis UT0082.1\n",
    "    Mycobacterium tuberculosis UT0083.1\n",
    "    Mycobacterium tuberculosis UT0084.1\n",
    "    Mycobacterium tuberculosis UT0085.1\n",
    "    Mycobacterium tuberculosis UT0087.1\n",
    "    Mycobacterium tuberculosis UT0088.1\n",
    "    Mycobacterium tuberculosis UT0089.1\n",
    "    Mycobacterium tuberculosis UT0090.1\n",
    "    Mycobacterium tuberculosis UT0091.1\n",
    "    Mycobacterium tuberculosis UT0092.1\n",
    "    Mycobacterium tuberculosis UT0093.1\n",
    "    Mycobacterium tuberculosis UT0094.1\n",
    "    Mycobacterium tuberculosis UT0096.1\n",
    "    Mycobacterium tuberculosis UT0097.1\n",
    "    Mycobacterium tuberculosis UT0098.1\n",
    "    Mycobacterium tuberculosis UT0099.1\n",
    "    Mycobacterium tuberculosis UT0100.1\n",
    "    Mycobacterium tuberculosis UT0101.1\n",
    "    Mycobacterium tuberculosis UT0103.1\n",
    "    Mycobacterium tuberculosis UT0104.1\n",
    "    Mycobacterium tuberculosis UT0105.1\n",
    "    Mycobacterium tuberculosis UT0106.1\n",
    "    Mycobacterium tuberculosis UT0110.1\n",
    "    Mycobacterium tuberculosis UT0112.1\n",
    "    Mycobacterium tuberculosis UT0113.1\n",
    "    Mycobacterium tuberculosis UT0115.1\n",
    "    Mycobacterium tuberculosis UT0116.1\n",
    "    Mycobacterium tuberculosis UT0117.1\n",
    "    Mycobacterium tuberculosis UT0118.1\n",
    "    Mycobacterium tuberculosis UT0119.1\n",
    "    Mycobacterium tuberculosis UT0123.1\n",
    "    Mycobacterium tuberculosis UT0124.1\n",
    "\"\"\"\n",
    "\n",
    "pan_23884993 = \"\"\"PanR0201, ANZG00000000; PanR0202, ATAS00000000; PanR0203, ATML00000000; PanR0205, ATMM00000000; PanR0206, ATMN00000000; PanR0207, ATMQ00000000; PanR0208, ATMO00000000; PanR0209, ATMP00000000; PanR0301, ATET00000000; PanR0304, ATES00000000; PanR0305, ATER00000000; PanR0306, ATEQ00000000; PanR0307, ATEP00000000; PanR0308, ATEO00000000; PanR0309, ATEN00000000; PanR0311, ATEM00000000; PanR0313, ATEL00000000; PanR0314, ATEK00000000; PanR0315, ATEJ00000000; PanR0316, ATEI00000000; PanR0317, ATEH00000000; PanR0401, ATEG00000000; PanR0402, ATEF00000000; PanR0403, ATEE00000000; PanR0404, ATED00000000; PanR0405, ATEC00000000; PanR0407, ATEB00000000; PanR0409, ATEA00000000; PanR0410, ATDZ00000000; PanR0411, ATDY00000000; PanR0412, ATDX00000000; PanR0501, ATRP00000000; PanR0503, ATRQ00000000; PanR0505, ATRR00000000; PanR0601, ATRS00000000; PanR0602, ATRT00000000; PanR0603, ATRU00000000; PanR0604, ATRV00000000; PanR0605, ATRW00000000; PanR0606, ATRX00000000; PanR0607, ATRY00000000; PanR0609, ATRZ00000000; PanR0610, ATSA00000000; PanR0611, ATSB00000000; PanR0702, ATSC00000000; PanR0703, ATSD00000000; PanR0704, ANNN00000000; PanR0707, ATSE00000000; PanR0708, ATSF00000000; PanR0801, ATSG00000000; PanR0802, ANZH00000000; PanR0803, ATSH00000000; PanR0804, ATSI00000000; PanR0805, ATSJ00000000; PanR0902, ATSK00000000; PanR0903, ATSL00000000; PanR0904, ATSM00000000; PanR0906, ATSN00000000; PanR0907, ATSO00000000; PanR0908, ATSP00000000; PanR0909, ATSQ00000000; PanR1005, ANZI00000000; PanR1006, ATST00000000; PanR1007, ATSR00000000; PanR1101, ATSS00000000. \"\"\""
   ]
  },
  {
   "cell_type": "code",
   "execution_count": 9,
   "metadata": {},
   "outputs": [
    {
     "name": "stdout",
     "output_type": "stream",
     "text": [
      "With Publications 1595\n",
      "Without publications... 0\n"
     ]
    }
   ],
   "source": [
    "genome_to_study = {\n",
    "    '1245275_3': \"23965132\",\n",
    "    '1245787_3': \"23965132\",\n",
    "    '1200347_3': \"PMC3961728\",\n",
    "    '1200348_3': \"PMC3961728\",\n",
    "    \"83331_31\": \"TB-ARC Taiwan initiative, Broad Institute (broadinstitute.org)\",\n",
    "    \"652616_4\": \"TB-ARC Taiwan initiative, Broad Institute (broadinstitute.org)\",\n",
    "    \"1773_169\": \"TB-ARC Mali initiative, Broad Institute (broadinstitute.org)\",\n",
    "    \"1773_170\": \"TB-ARC Mali initiative, Broad Institute (broadinstitute.org)\",\n",
    "    \"1773_171\": \"TB-ARC Mali initiative, Broad Institute (broadinstitute.org)\",\n",
    "    \"1773_172\": \"TB-ARC Mali initiative, Broad Institute (broadinstitute.org)\",\n",
    "    \"1773_173\": \"TB-ARC Mali initiative, Broad Institute (broadinstitute.org)\",\n",
    "    \"1773_174\": \"TB-ARC Mali initiative, Broad Institute (broadinstitute.org)\",\n",
    "    \"1322343_3\":\"PMID: 23908284\",# OSDD271\n",
    "    \"1310115_3\": \"Narayanan S et al. 2013 - PMID: 23908284\",\n",
    "    \"1306400_3\": \"Narayanan S et al. 2013 - PMID: 23908284\",\n",
    "    \"1306414_3\": \"Al Rashdi AS et al. 2014\",\n",
    "     \"1274431_3\": 'Grant ID 16.522.11.2003, Ministry of Education and Science of the Russian Federation',\n",
    "     \"1279011_3\": \"Ismail A et al. 2013 - PMID: 23788553 \",\n",
    "     \"1138877_3\": \"Roetzer,A. et al. 2013 - PMID: 23424287\",\n",
    "     \"1078763_3\": \"Tohru Miyoshi-Akiyama et al. 2011\",\n",
    "     \"1010834_3\": \"Tsui S.K.W. et al. SUBMITTED http://www.uniprot.org/proteomes/UP000019323\",\n",
    "     \"1010836_3\": \"Tsui S.K.W. et al. SUBMITTED http://www.uniprot.org/proteomes/UP000019327\",\n",
    "     \"1010835_3\": \"Tsui S.K.W. et al. SUBMITTED http://www.uniprot.org/proteomes/UP000019328\",\n",
    "    \"1279039_3\": \"Zhang,Y., Zhu,B. and Zhang,X. Complete Genome Sequence of a Beijing Family Mycobacterium tuberculosis Strain 1034 Whose Growth is Enhanced by Rifampin, UNPUBLISHED\"\n",
    "    }\n",
    "miss_genomes = []\n",
    "for genome, row in strain_info_df.iterrows():\n",
    "    if pd.isnull(row[\"Publication\"]) or row[\"Publication\"]==\"-\":\n",
    "        if str(row[\"BioProject Accession\"]) in publication_globallyDiverse.index:\n",
    "            bioproject_row_pub = publication_globallyDiverse.loc[str(row[\"BioProject Accession\"]), \"study\"]\n",
    "            genome_to_study.update({genome: bioproject_row_pub + \" used in PMID:28092681\"})\n",
    "            \n",
    "        elif \"TB-ARC\" in str(row[\"Comments\"]):\n",
    "            genome_to_study.update({genome: str(row[\"Comments\"])+\" initiative, Broad Institute (broadinstitute.org)\"})\n",
    "            \n",
    "        elif str(row[\"Genome Name\"]).split(\" \")[-1] in pan_23884993:\n",
    "            genome_to_study.update({genome: \"Lanzas et al. 23884993\"})\n",
    "            \n",
    "        elif str(row[\"Genome Name\"]) in tb_arc_ntu_taiwan2:\n",
    "            genome_to_study.update({genome: \"TB-ARC Taiwan initiative, Broad Institute (broadinstitute.org)\"})\n",
    "        elif \"OSDD\" in str(row[\"Genome Name\"]):\n",
    "            genome_to_study.update({genome: \"OSDD Open Repsoitory\"})\n",
    "            \n",
    "        elif genome not in genome_to_study.keys():\n",
    "            miss_genomes.append([genome, row[\"Genome Name\"], row[\"Comments\"], row[\"BioProject Accession\"]])\n",
    "        \n",
    "    else:\n",
    "        genome_to_study.update({genome: row[\"Publication\"]})\n",
    "        \n",
    "print \"With Publications\", len(genome_to_study.keys())\n",
    "print \"Without publications...\", len(miss_genomes)"
   ]
  },
  {
   "cell_type": "code",
   "execution_count": 10,
   "metadata": {},
   "outputs": [
    {
     "data": {
      "text/plain": [
       "[]"
      ]
     },
     "execution_count": 10,
     "metadata": {},
     "output_type": "execute_result"
    }
   ],
   "source": [
    "miss_genomes"
   ]
  },
  {
   "cell_type": "markdown",
   "metadata": {},
   "source": [
    "### Save output of strain information dataframe\n",
    "- These papers are cited in the original "
   ]
  },
  {
   "cell_type": "code",
   "execution_count": 11,
   "metadata": {},
   "outputs": [
    {
     "name": "stdout",
     "output_type": "stream",
     "text": [
      "Serovar\n",
      "Biovar\n",
      "Pathovar\n",
      "MLST\n",
      "Type Strain\n",
      "Plasmids\n",
      "BRC1 CDS\n",
      "Latitude\n",
      "Longitude\n",
      "Depth\n",
      "Other Environmental\n",
      "Body Sample Site\n",
      "Body Sample Subsite\n"
     ]
    }
   ],
   "source": [
    "strain_info_df_SAVE = strain_info_df.copy()\n",
    "drop_cols = []\n",
    "for col in strain_info_df.columns:\n",
    "    # print col\n",
    "    if strain_info_df[col].isnull().all():\n",
    "        print col\n",
    "        drop_cols.append(col)\n",
    "strain_info_df_SAVE.drop(drop_cols, axis=1, inplace=True)\n",
    "\n",
    "# save new publication information to \n",
    "strain_info_df_SAVE[\"Publication\"] = strain_info_df_SAVE.index.map(lambda x: genome_to_study[x] if x in genome_to_study.keys() else \"NO PUB\")"
   ]
  },
  {
   "cell_type": "code",
   "execution_count": 13,
   "metadata": {},
   "outputs": [
    {
     "data": {
      "text/plain": [
       "Genome ID\n",
       "1010834_3    Tsui S.K.W. et al. SUBMITTED http://www.unipro...\n",
       "1010835_3    Tsui S.K.W. et al. SUBMITTED http://www.unipro...\n",
       "1010836_3    Tsui S.K.W. et al. SUBMITTED http://www.unipro...\n",
       "1078763_3                    Tohru Miyoshi-Akiyama et al. 2011\n",
       "1126682_4                                 OSDD Open Repsoitory\n",
       "1126683_4                                 OSDD Open Repsoitory\n",
       "1126684_4                                 OSDD Open Repsoitory\n",
       "1138877_3              Roetzer,A. et al. 2013 - PMID: 23424287\n",
       "1151113_3                                             23801408\n",
       "1160714_3                                             23801408\n",
       "1160715_3                                             23801408\n",
       "1160716_3                                             23801408\n",
       "1200347_3                                           PMC3961728\n",
       "1200348_3                                           PMC3961728\n",
       "1240677_3                                             23405310\n",
       "1245275_3                                             23965132\n",
       "1245787_3                                             23965132\n",
       "1249615_4                               Lanzas et al. 23884993\n",
       "1262525_3                               Lanzas et al. 23884993\n",
       "1262526_3                               Lanzas et al. 23884993\n",
       "1262529_3                               Lanzas et al. 23884993\n",
       "1266446_3                               Lanzas et al. 23884993\n",
       "1267355_3    TB-ARC - KRITH initiative, Broad Institute (br...\n",
       "1267356_3             Cohen et al., 2015 used in PMID:28092681\n",
       "1267357_3    Mycobacterium tuberculosis;TB-ARC - KRITH init...\n",
       "1267358_3    TB-ARC - KRITH initiative, Broad Institute (br...\n",
       "1267359_3    TB-ARC - KRITH initiative, Broad Institute (br...\n",
       "1267360_3             Cohen et al., 2015 used in PMID:28092681\n",
       "1267361_3             Cohen et al., 2015 used in PMID:28092681\n",
       "1267362_3             Cohen et al., 2015 used in PMID:28092681\n",
       "                                   ...                        \n",
       "1773_342                                              25599400\n",
       "1773_343                                              25599400\n",
       "1773_344                                              25599400\n",
       "1773_345                                              25599400\n",
       "1773_346                                              25599400\n",
       "1773_348                                              25599400\n",
       "1773_349                                              25599400\n",
       "1773_351                                              25599400\n",
       "1773_352                                              25599400\n",
       "1773_354                                              25599400\n",
       "1773_355                                              25599400\n",
       "1773_356                                              25599400\n",
       "1773_357                                              25599400\n",
       "1773_358                                              25599400\n",
       "1773_359                                              25599400\n",
       "1773_360                                              25599400\n",
       "1773_361                                              25599400\n",
       "1773_363                                              25599400\n",
       "1773_364                                              25599400\n",
       "1773_365                                              25599400\n",
       "1773_366                                              25599400\n",
       "1773_367                                              25599400\n",
       "1773_368                                              25599400\n",
       "1773_369                                              25599400\n",
       "1773_370                                              25599400\n",
       "1773_371                                              25599400\n",
       "1773_372                                              25599400\n",
       "652616_4     TB-ARC Taiwan initiative, Broad Institute (bro...\n",
       "83331_31     TB-ARC Taiwan initiative, Broad Institute (bro...\n",
       "83332_12                                      9634230,12368430\n",
       "Name: Publication, Length: 1595, dtype: object"
      ]
     },
     "execution_count": 13,
     "metadata": {},
     "output_type": "execute_result"
    }
   ],
   "source": [
    "strain_info_df_SAVE[\"Publication\"]"
   ]
  },
  {
   "cell_type": "code",
   "execution_count": 15,
   "metadata": {},
   "outputs": [],
   "source": [
    "strain_info_df_SAVE.to_csv(DATA_DIR+\"strain_information.csv\")"
   ]
  },
  {
   "cell_type": "code",
   "execution_count": 70,
   "metadata": {},
   "outputs": [],
   "source": [
    "# strain_info_df_SAVE[strain_info_df_SAVE[\"publication\"]==\"NO PUB\"]"
   ]
  },
  {
   "cell_type": "code",
   "execution_count": 16,
   "metadata": {},
   "outputs": [
    {
     "name": "stdout",
     "output_type": "stream",
     "text": [
      "Tsui S.K.W. et al. SUBMITTED http://www.uniprot.org/proteomes/UP000019323\n",
      "Tsui S.K.W. et al. SUBMITTED http://www.uniprot.org/proteomes/UP000019328\n",
      "Tsui S.K.W. et al. SUBMITTED http://www.uniprot.org/proteomes/UP000019327\n",
      "Tohru Miyoshi-Akiyama et al. 2011\n",
      "OSDD Open Repsoitory\n",
      "Roetzer,A. et al. 2013 - PMID: 23424287\n",
      "23801408\n",
      "PMC3961728\n",
      "23405310\n",
      "23965132\n",
      "Lanzas et al. 23884993\n",
      "TB-ARC - KRITH initiative, Broad Institute (broadinstitute.org)\n",
      "Cohen et al., 2015 used in PMID:28092681\n",
      "Mycobacterium tuberculosis;TB-ARC - KRITH initiative, Broad Institute (broadinstitute.org)\n",
      "Grant ID 16.522.11.2003, Ministry of Education and Science of the Russian Federation\n",
      "Ismail A et al. 2013 - PMID: 23788553 \n",
      "Zhang,Y., Zhu,B. and Zhang,X. Complete Genome Sequence of a Beijing Family Mycobacterium tuberculosis Strain 1034 Whose Growth is Enhanced by Rifampin, UNPUBLISHED\n",
      "TB-ARC - Taiwan initiative, Broad Institute (broadinstitute.org)\n",
      "Narayanan S et al. 2013 - PMID: 23908284\n",
      "Al Rashdi AS et al. 2014\n",
      "Winglee et al., 2015 used in PMID:28092681\n",
      "TB-ARC - Mali initiative, Broad Institute (broadinstitute.org)\n",
      "TBARC.CDRC used in PMID:28092681\n",
      "TB-ARC - CDRC Alland initiative, Broad Institute (broadinstitute.org)\n",
      "TBARC.MRC used in PMID:28092681\n",
      "TB-ARC - MRC SA initiative, Broad Institute (broadinstitute.org)\n",
      "TBARC.Sweden used in PMID:28092681\n",
      "TB-ARC Sweden initiative, Broad Institute (broadinstitute.org)\n",
      "TBARC.Belarus used in PMID:28092681\n",
      "TB-ARC - Belarus initiative, Broad Institute (broadinstitute.org)\n",
      "TBARC.Romania used in PMID:28092681\n",
      "TB-ARC CDRC Alland initiative, Broad Institute (broadinstitute.org)\n",
      "TBARC.Moldova used in PMID:28092681\n",
      "TB-ARC - Moldova initiative, Broad Institute (broadinstitute.org)\n",
      "TB-ARC - KRITH 2 initiative, Broad Institute (broadinstitute.org)\n",
      "TBARC.India used in PMID:28092681\n",
      "TB-ARC - India initiative, Broad Institute (broadinstitute.org)\n",
      "TBARC.Iran used in PMID:28092681\n",
      "TB-ARC - Iran initiative, Broad Institute (broadinstitute.org)\n",
      "TB-ARC Mali initiative, Broad Institute (broadinstitute.org)\n",
      "25599400\n",
      "22404577\n",
      "TB-ARC Taiwan initiative, Broad Institute (broadinstitute.org)\n",
      "9634230,12368430\n"
     ]
    }
   ],
   "source": [
    "for x in strain_info_df_SAVE[\"Publication\"].unique():\n",
    "    print x"
   ]
  },
  {
   "cell_type": "code",
   "execution_count": 72,
   "metadata": {},
   "outputs": [
    {
     "data": {
      "text/html": [
       "<div>\n",
       "<style scoped>\n",
       "    .dataframe tbody tr th:only-of-type {\n",
       "        vertical-align: middle;\n",
       "    }\n",
       "\n",
       "    .dataframe tbody tr th {\n",
       "        vertical-align: top;\n",
       "    }\n",
       "\n",
       "    .dataframe thead th {\n",
       "        text-align: right;\n",
       "    }\n",
       "</style>\n",
       "<table border=\"1\" class=\"dataframe\">\n",
       "  <thead>\n",
       "    <tr style=\"text-align: right;\">\n",
       "      <th></th>\n",
       "      <th>Genome Name</th>\n",
       "      <th>Organism Name</th>\n",
       "      <th>NCBI Taxon ID</th>\n",
       "      <th>Genome Status</th>\n",
       "      <th>Strain</th>\n",
       "      <th>Other Typing</th>\n",
       "      <th>Culture Collection</th>\n",
       "      <th>Completion Date</th>\n",
       "      <th>Publication</th>\n",
       "      <th>BioProject Accession</th>\n",
       "      <th>...</th>\n",
       "      <th>Temperature Range</th>\n",
       "      <th>Optimal Temperature</th>\n",
       "      <th>Salinity</th>\n",
       "      <th>Oxygen Requirement</th>\n",
       "      <th>Habitat</th>\n",
       "      <th>Disease</th>\n",
       "      <th>Comments</th>\n",
       "      <th>Additional Metadata</th>\n",
       "      <th>Date Inserted</th>\n",
       "      <th>Date Modified</th>\n",
       "    </tr>\n",
       "    <tr>\n",
       "      <th>Genome ID</th>\n",
       "      <th></th>\n",
       "      <th></th>\n",
       "      <th></th>\n",
       "      <th></th>\n",
       "      <th></th>\n",
       "      <th></th>\n",
       "      <th></th>\n",
       "      <th></th>\n",
       "      <th></th>\n",
       "      <th></th>\n",
       "      <th></th>\n",
       "      <th></th>\n",
       "      <th></th>\n",
       "      <th></th>\n",
       "      <th></th>\n",
       "      <th></th>\n",
       "      <th></th>\n",
       "      <th></th>\n",
       "      <th></th>\n",
       "      <th></th>\n",
       "      <th></th>\n",
       "    </tr>\n",
       "  </thead>\n",
       "  <tbody>\n",
       "  </tbody>\n",
       "</table>\n",
       "<p>0 rows × 54 columns</p>\n",
       "</div>"
      ],
      "text/plain": [
       "Empty DataFrame\n",
       "Columns: [Genome Name, Organism Name, NCBI Taxon ID, Genome Status, Strain, Other Typing, Culture Collection, Completion Date, Publication, BioProject Accession, BioSample Accession, Assembly Accession, GenBank Accessions, RefSeq Accessions, Sequencing Centers, Sequencing Status, Sequencing Platform, Sequencing Depth, Assembly Method, Chromosomes, Contigs, Sequences, Genome Length, GC Content, PATRIC CDS, RefSeq CDS, Isolation Site, Isolation Source, Isolation Comments, Collection Date, Isolation Country, Geographic Location, Altitude, Host Name, Host Gender, Host Age, Host Health, Other Clinical, AntiMicrobial Resistance, AntiMicrobial Resistance Evidence, Gram Stain, Cell Shape, Motility, Sporulation, Temperature Range, Optimal Temperature, Salinity, Oxygen Requirement, Habitat, Disease, Comments, Additional Metadata, Date Inserted, Date Modified]\n",
       "Index: []\n",
       "\n",
       "[0 rows x 54 columns]"
      ]
     },
     "execution_count": 72,
     "metadata": {},
     "output_type": "execute_result"
    }
   ],
   "source": [
    "strain_info_df_SAVE[strain_info_df_SAVE[\"Publication\"]==\"TBARC.CDRC\"].head()"
   ]
  }
 ],
 "metadata": {
  "kernelspec": {
   "display_name": "Python 2",
   "language": "python",
   "name": "python2"
  },
  "language_info": {
   "codemirror_mode": {
    "name": "ipython",
    "version": 2
   },
   "file_extension": ".py",
   "mimetype": "text/x-python",
   "name": "python",
   "nbconvert_exporter": "python",
   "pygments_lexer": "ipython2",
   "version": "2.7.14"
  }
 },
 "nbformat": 4,
 "nbformat_minor": 2
}
