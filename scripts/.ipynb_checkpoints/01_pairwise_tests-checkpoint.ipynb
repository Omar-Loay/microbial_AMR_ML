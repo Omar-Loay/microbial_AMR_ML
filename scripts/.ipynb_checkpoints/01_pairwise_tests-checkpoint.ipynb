{
 "cells": [
  {
   "cell_type": "markdown",
   "metadata": {},
   "source": [
    "# 01\n",
    "\n",
    "# Compute pairwise associations between pan-genome allele frequencies and AMR phenotypes\n",
    "1. Mutual Information\n",
    "2. Chi-squared\n",
    "3. ANOVA\n",
    "\n",
    "### Load _M. tuberculosis_ pan-genome dataset"
   ]
  },
  {
   "cell_type": "code",
   "execution_count": 1,
   "metadata": {},
   "outputs": [
    {
     "name": "stderr",
     "output_type": "stream",
     "text": [
      "/Users/sbrg/anaconda/lib/python2.7/site-packages/statsmodels/compat/pandas.py:56: FutureWarning: The pandas.core.datetools module is deprecated and will be removed in a future version. Please use the pandas.tseries module instead.\n",
      "  from pandas.core import datetools\n"
     ]
    }
   ],
   "source": [
    "import pandas as pd\n",
    "from tqdm import tqdm\n",
    "from svm_epistasis_funcs import *\n",
    "\n",
    "# new packages to import for this script\n",
    "import statsmodels\n",
    "import statsmodels.api as sm\n",
    "import heapq, random\n",
    "import entropy_estimators as ee\n",
    "\n",
    "pd.options.mode.chained_assignment = None  # default='warn'\n",
    "\n",
    "%matplotlib inline"
   ]
  },
  {
   "cell_type": "code",
   "execution_count": 2,
   "metadata": {
    "collapsed": true
   },
   "outputs": [],
   "source": [
    "### Define locations and filenames for the pan-genome matrices.\n",
    "DATA_DIR = \"../data/\" \n",
    "SUPP_DIR = \"../supplement/\"\n",
    "FINAL_SUPP_DIR = SUPP_DIR+\"supplement_final/\"\n",
    "\n",
    "# load key data matrices\n",
    "CLUSTER_INFO_FILE = \"cluster_info.csv\"\n",
    "STRAIN_INFO_FILE = \"PATRIC_genome_info.csv\"\n",
    "X_PANGEN_CLUSTERS_FILE = \"pangen_cluster_df.csv\"  # the species-cluster (each cluster represents a \"gene\")\n",
    "X_PANGEN_ALLELES_FILE = \"pangen_allele_df.csv\"  # the species-allele matrix\n",
    "Y_PHENOTYPES_FILE = \"resistance_data.csv\"  # the species-phenotype matrix"
   ]
  },
  {
   "cell_type": "code",
   "execution_count": 3,
   "metadata": {},
   "outputs": [],
   "source": [
    "# Load resistance data\n",
    "resistance_data = pd.read_csv(DATA_DIR+Y_PHENOTYPES_FILE, index_col = 0) #resistance_data\n",
    "drug_list = list(resistance_data.columns.map(str))\n",
    "\n",
    "# Load pan-genome in both cluster and allele form\n",
    "pan_cluster_df = pd.read_csv(DATA_DIR+X_PANGEN_CLUSTERS_FILE, index_col = 0) #pan_cluster_df\n",
    "pan_variant_df = pd.read_csv(DATA_DIR+X_PANGEN_ALLELES_FILE, index_col = 0) #clust_variant_df\n",
    "\n",
    "# Load cluster information file\n",
    "clust_info_df = pd.read_csv(DATA_DIR+CLUSTER_INFO_FILE, index_col = 0) #test_df_final\n",
    "\n",
    "# Load strain information file\n",
    "strain_info_df = pd.read_csv(DATA_DIR+STRAIN_INFO_FILE, index_col = 0) #...."
   ]
  },
  {
   "cell_type": "markdown",
   "metadata": {},
   "source": [
    "### Filter out Mobile elements, PE family proteins, and hypotheticals.\n",
    "Should drop the total number of 15367 variants (columns) to 9975"
   ]
  },
  {
   "cell_type": "code",
   "execution_count": 4,
   "metadata": {},
   "outputs": [
    {
     "name": "stderr",
     "output_type": "stream",
     "text": [
      "100%|██████████| 15367/15367 [00:01<00:00, 13407.07it/s]\n"
     ]
    },
    {
     "name": "stdout",
     "output_type": "stream",
     "text": [
      "Number of alleles (variants) before filtering... 15367\n",
      "Number of alleles after filtering... 9975\n",
      "Number of alleles removed... 5392\n"
     ]
    }
   ],
   "source": [
    "pan_variant_df = pan_variant_df.fillna(0).copy()\n",
    "\n",
    "remove_cols = []\n",
    "for col in tqdm(pan_variant_df.columns):\n",
    "    col_name = col.split(\"_\")[0].replace(\"ter\", \"ter \")\n",
    "    clust_to_RV = clust_info_df.loc[col_name, \"clust_to_rv\"]\n",
    "    gene_name = clust_info_df.loc[col_name, \"gene_name\"]\n",
    "    product = clust_info_df.loc[col_name, \"product\"]\n",
    "    \n",
    "    if clust_to_RV == \"0\" and gene_name == \"0\":\n",
    "        remove_cols.append(col)\n",
    "    if product == \"Mobile element protein\" or product == \"hypothetical protein\":\n",
    "        remove_cols.append(col)\n",
    "    if \"PE-PGRS\" in product or \"PPE family\" in product or \"PE family protein\" in product:\n",
    "        remove_cols.append(col)\n",
    "    if \"hypothetical protein\" in product or \"Hypothetical protein\" in product:\n",
    "        remove_cols.append(col)\n",
    "    if \"Transposase\" in product:\n",
    "        remove_cols.append(col)\n",
    "\n",
    "remove_cols = list(set(remove_cols))\n",
    "print \"Number of alleles (variants) before filtering...\", len(pan_variant_df.columns)\n",
    "pan_variant_df.drop(remove_cols, axis=1, inplace=True)\n",
    "print \"Number of alleles after filtering...\",len(pan_variant_df.columns)\n",
    "print \"Number of alleles removed...\",len(remove_cols)\n",
    "data_to_plot = pan_variant_df.copy()"
   ]
  },
  {
   "cell_type": "markdown",
   "metadata": {},
   "source": [
    "## Perform classical GWAS with three different association metrics.\n",
    "Compute pairwise associations between allele frequencies and AMR phenotypes\n",
    "\n",
    "Leaving out rifabutin and nicotinamide."
   ]
  },
  {
   "cell_type": "markdown",
   "metadata": {},
   "source": [
    "### Mutual Information"
   ]
  },
  {
   "cell_type": "code",
   "execution_count": 5,
   "metadata": {},
   "outputs": [],
   "source": [
    "def get_mi_var_drug(gene_train, drug_target):\n",
    "    mi_class = [ee.midd(gene_train[x].fillna(0).values, drug_target.values) for x in gene_train.columns]\n",
    "    mi_class = np.array(mi_class)\n",
    "    return mi_class\n",
    "\n",
    "def add_info_sum_row(clust_MI_dic, all_cluster_df):\n",
    "    clust_count_df = pd.DataFrame.from_dict(clust_MI_dic, \n",
    "                                            orient=\"index\")\n",
    "    clust_count_df.columns = [\"MI sum\"]\n",
    "    final_output_df = pd.concat([clust_count_df, all_cluster_df.ix[list(set(clust_MI_dic.keys())), :]], axis=1)\n",
    "    final_output_df = final_output_df.sort_values([\"MI sum\"], axis=0, ascending=False, inplace=False, \n",
    "                                                  kind='quicksort', na_position='last')\n",
    "    return final_output_df"
   ]
  },
  {
   "cell_type": "code",
   "execution_count": 7,
   "metadata": {},
   "outputs": [
    {
     "data": {
      "text/html": [
       "<div>\n",
       "<style scoped>\n",
       "    .dataframe tbody tr th:only-of-type {\n",
       "        vertical-align: middle;\n",
       "    }\n",
       "\n",
       "    .dataframe tbody tr th {\n",
       "        vertical-align: top;\n",
       "    }\n",
       "\n",
       "    .dataframe thead th {\n",
       "        text-align: right;\n",
       "    }\n",
       "</style>\n",
       "<table border=\"1\" class=\"dataframe\">\n",
       "  <thead>\n",
       "    <tr style=\"text-align: right;\">\n",
       "      <th></th>\n",
       "      <th>clust_to_rv</th>\n",
       "      <th>gene_name</th>\n",
       "      <th>ortho</th>\n",
       "      <th>cog</th>\n",
       "      <th>product</th>\n",
       "      <th>refseq</th>\n",
       "      <th>count</th>\n",
       "      <th>score</th>\n",
       "      <th>name_to_rv</th>\n",
       "      <th>pan</th>\n",
       "    </tr>\n",
       "  </thead>\n",
       "  <tbody>\n",
       "    <tr>\n",
       "      <th>Cluster 0</th>\n",
       "      <td>Rv2048c</td>\n",
       "      <td>pks12</td>\n",
       "      <td>653045.Strvi_4160</td>\n",
       "      <td>Q</td>\n",
       "      <td>Polyketide synthase</td>\n",
       "      <td>AN47_01827</td>\n",
       "      <td>1590</td>\n",
       "      <td>7958.6</td>\n",
       "      <td>0</td>\n",
       "      <td>Core</td>\n",
       "    </tr>\n",
       "    <tr>\n",
       "      <th>Cluster 1</th>\n",
       "      <td>Rv3344c</td>\n",
       "      <td>PE_PGRS49</td>\n",
       "      <td>0</td>\n",
       "      <td>0</td>\n",
       "      <td>PE-PGRS family protein</td>\n",
       "      <td>X171_03503</td>\n",
       "      <td>794</td>\n",
       "      <td>0.0</td>\n",
       "      <td>0</td>\n",
       "      <td>Acces</td>\n",
       "    </tr>\n",
       "    <tr>\n",
       "      <th>Cluster 10</th>\n",
       "      <td>0</td>\n",
       "      <td>MRA_3390</td>\n",
       "      <td>419947.MRA_3390</td>\n",
       "      <td>N</td>\n",
       "      <td>PPE family protein</td>\n",
       "      <td>T604_03914</td>\n",
       "      <td>45</td>\n",
       "      <td>282.5</td>\n",
       "      <td>0</td>\n",
       "      <td>Acces</td>\n",
       "    </tr>\n",
       "    <tr>\n",
       "      <th>Cluster 100</th>\n",
       "      <td>Rv3512</td>\n",
       "      <td>PE_PGRS56</td>\n",
       "      <td>0</td>\n",
       "      <td>0</td>\n",
       "      <td>PE-PGRS family protein</td>\n",
       "      <td>MT7199_3572</td>\n",
       "      <td>692</td>\n",
       "      <td>0.0</td>\n",
       "      <td>0</td>\n",
       "      <td>Acces</td>\n",
       "    </tr>\n",
       "    <tr>\n",
       "      <th>Cluster 1000</th>\n",
       "      <td>0</td>\n",
       "      <td>0</td>\n",
       "      <td>0</td>\n",
       "      <td>0</td>\n",
       "      <td>PE-PGRS family protein</td>\n",
       "      <td>AN96_03817</td>\n",
       "      <td>4</td>\n",
       "      <td>0.0</td>\n",
       "      <td>0</td>\n",
       "      <td>Uniq</td>\n",
       "    </tr>\n",
       "  </tbody>\n",
       "</table>\n",
       "</div>"
      ],
      "text/plain": [
       "             clust_to_rv  gene_name              ortho cog  \\\n",
       "Cluster 0        Rv2048c      pks12  653045.Strvi_4160   Q   \n",
       "Cluster 1        Rv3344c  PE_PGRS49                  0   0   \n",
       "Cluster 10             0   MRA_3390    419947.MRA_3390   N   \n",
       "Cluster 100       Rv3512  PE_PGRS56                  0   0   \n",
       "Cluster 1000           0          0                  0   0   \n",
       "\n",
       "                             product       refseq  count   score name_to_rv  \\\n",
       "Cluster 0        Polyketide synthase   AN47_01827   1590  7958.6          0   \n",
       "Cluster 1     PE-PGRS family protein   X171_03503    794     0.0          0   \n",
       "Cluster 10        PPE family protein   T604_03914     45   282.5          0   \n",
       "Cluster 100   PE-PGRS family protein  MT7199_3572    692     0.0          0   \n",
       "Cluster 1000  PE-PGRS family protein   AN96_03817      4     0.0          0   \n",
       "\n",
       "                pan  \n",
       "Cluster 0      Core  \n",
       "Cluster 1     Acces  \n",
       "Cluster 10    Acces  \n",
       "Cluster 100   Acces  \n",
       "Cluster 1000   Uniq  "
      ]
     },
     "execution_count": 7,
     "metadata": {},
     "output_type": "execute_result"
    }
   ],
   "source": [
    "clust_info_df.head()"
   ]
  },
  {
   "cell_type": "code",
   "execution_count": 11,
   "metadata": {},
   "outputs": [
    {
     "name": "stderr",
     "output_type": "stream",
     "text": [
      "  0%|          | 0/12 [00:00<?, ?it/s]"
     ]
    },
    {
     "name": "stdout",
     "output_type": "stream",
     "text": [
      "S: 506 | R: 1057\n"
     ]
    },
    {
     "name": "stderr",
     "output_type": "stream",
     "text": [
      "/Users/sbrg/anaconda/lib/python2.7/site-packages/ipykernel_launcher.py:10: DeprecationWarning: \n",
      ".ix is deprecated. Please use\n",
      ".loc for label based indexing or\n",
      ".iloc for positional indexing\n",
      "\n",
      "See the documentation here:\n",
      "http://pandas.pydata.org/pandas-docs/stable/indexing.html#ix-indexer-is-deprecated\n",
      "  # Remove the CWD from sys.path while we load stuff.\n",
      "  8%|▊         | 1/12 [00:28<05:10, 28.23s/it]"
     ]
    },
    {
     "name": "stdout",
     "output_type": "stream",
     "text": [
      "isoniazid\n",
      "S: 848 | R: 492\n"
     ]
    },
    {
     "name": "stderr",
     "output_type": "stream",
     "text": [
      " 17%|█▋        | 2/12 [00:53<04:26, 26.62s/it]"
     ]
    },
    {
     "name": "stdout",
     "output_type": "stream",
     "text": [
      "ethambutol\n",
      "S: 578 | R: 983\n"
     ]
    },
    {
     "name": "stderr",
     "output_type": "stream",
     "text": [
      " 25%|██▌       | 3/12 [01:21<04:04, 27.18s/it]"
     ]
    },
    {
     "name": "stdout",
     "output_type": "stream",
     "text": [
      "rifampicin\n",
      "S: 92 | R: 137\n"
     ]
    },
    {
     "name": "stderr",
     "output_type": "stream",
     "text": [
      " 33%|███▎      | 4/12 [01:29<02:59, 22.45s/it]"
     ]
    },
    {
     "name": "stdout",
     "output_type": "stream",
     "text": [
      "pyrazinamide\n",
      "S: 353 | R: 209\n"
     ]
    },
    {
     "name": "stderr",
     "output_type": "stream",
     "text": [
      " 42%|████▏     | 5/12 [01:43<02:24, 20.64s/it]"
     ]
    },
    {
     "name": "stdout",
     "output_type": "stream",
     "text": [
      "ethionamide\n",
      "S: 554 | R: 302\n"
     ]
    },
    {
     "name": "stderr",
     "output_type": "stream",
     "text": [
      " 50%|█████     | 6/12 [02:01<02:01, 20.17s/it]"
     ]
    },
    {
     "name": "stdout",
     "output_type": "stream",
     "text": [
      "ofloxacin\n",
      "S: 295 | R: 80\n"
     ]
    },
    {
     "name": "stderr",
     "output_type": "stream",
     "text": [
      " 58%|█████▊    | 7/12 [02:11<01:33, 18.78s/it]"
     ]
    },
    {
     "name": "stdout",
     "output_type": "stream",
     "text": [
      "4-aminosalicylic_acid\n",
      "S: 732 | R: 663\n"
     ]
    },
    {
     "name": "stderr",
     "output_type": "stream",
     "text": [
      " 67%|██████▋   | 8/12 [02:37<01:18, 19.64s/it]"
     ]
    },
    {
     "name": "stdout",
     "output_type": "stream",
     "text": [
      "streptomycin\n",
      "S: 257 | R: 142\n"
     ]
    },
    {
     "name": "stderr",
     "output_type": "stream",
     "text": [
      " 75%|███████▌  | 9/12 [02:47<00:55, 18.66s/it]"
     ]
    },
    {
     "name": "stdout",
     "output_type": "stream",
     "text": [
      "amikacin\n",
      "S: 262 | R: 71\n"
     ]
    },
    {
     "name": "stderr",
     "output_type": "stream",
     "text": [
      " 83%|████████▎ | 10/12 [02:57<00:35, 17.77s/it]"
     ]
    },
    {
     "name": "stdout",
     "output_type": "stream",
     "text": [
      "cycloserine\n",
      "S: 550 | R: 278\n"
     ]
    },
    {
     "name": "stderr",
     "output_type": "stream",
     "text": [
      " 92%|█████████▏| 11/12 [03:14<00:17, 17.72s/it]"
     ]
    },
    {
     "name": "stdout",
     "output_type": "stream",
     "text": [
      "kanamycin\n",
      "S: 237 | R: 141\n"
     ]
    },
    {
     "name": "stderr",
     "output_type": "stream",
     "text": [
      "100%|██████████| 12/12 [03:25<00:00, 17.13s/it]"
     ]
    },
    {
     "name": "stdout",
     "output_type": "stream",
     "text": [
      "capreomycin\n"
     ]
    },
    {
     "name": "stderr",
     "output_type": "stream",
     "text": [
      "\n"
     ]
    }
   ],
   "source": [
    "writer = pd.ExcelWriter(SUPP_DIR+'DataFile01_a.xlsx')\n",
    "\n",
    "for drug_name in tqdm([\"isoniazid\", \"ethambutol\", \"rifampicin\", \"pyrazinamide\", \"ethionamide\", \n",
    "                              \"ofloxacin\", \"4-aminosalicylic_acid\", \"streptomycin\", \"amikacin\",\"cycloserine\", \n",
    "                              \"kanamycin\", \"capreomycin\"]):\n",
    "    \n",
    "    if drug_name == \"MDR\" or drug_name == \"XDR\":\n",
    "        X1, y1 = get_MDR_training(resistance_data, data_to_plot, drug_name)\n",
    "    else:\n",
    "        y1, X1 = get_target_data(data_to_plot, resistance_data, drug_name)\n",
    "        # X1 = remove_key_antibiotic_clusters(X1, drug_name)\n",
    "        \n",
    "    mi_drug = get_mi_var_drug(X1, y1)\n",
    "    print drug_name\n",
    "    \n",
    "    all_filter_ind_drugs = []\n",
    "    cluster_info_dic = {}\n",
    "    \n",
    "    n_max_info = heapq.nlargest(50, mi_drug)\n",
    "    where_max = np.where( mi_drug >= min(n_max_info) )[0]\n",
    "    all_filter_ind_drugs.extend(list(where_max))\n",
    "\n",
    "    new_cols = []\n",
    "    for x in list(X1.columns[all_filter_ind_drugs]):\n",
    "        new_cols.append(str(x).split(\"_\")[0].replace(\"ter\", \"ter \"))\n",
    "        new_cols = list(set(new_cols))\n",
    "    # print new_cols\n",
    "    for x in where_max:\n",
    "        clust_var_name = X1.columns[x]\n",
    "        clust_name = str(clust_var_name).split(\"_\")[0].replace(\"ter\", \"ter \")\n",
    "        if clust_name not in cluster_info_dic.keys():\n",
    "            cluster_info_dic.update({clust_name: mi_drug[x]})\n",
    "        else:\n",
    "            cluster_info_dic[clust_name] = cluster_info_dic[clust_name]+mi_drug[x]\n",
    "    all_filter_ind_drugs = list(set(all_filter_ind_drugs))            \n",
    "    final_df = add_info_sum_row(cluster_info_dic, clust_info_df)\n",
    "        \n",
    "    final_df[:40].to_excel(writer, sheet_name = drug_name+\"_MI\", index=True)\n",
    "    \n",
    "writer.save()"
   ]
  },
  {
   "cell_type": "markdown",
   "metadata": {},
   "source": [
    "### Chi-squared"
   ]
  },
  {
   "cell_type": "code",
   "execution_count": 12,
   "metadata": {
    "scrolled": true
   },
   "outputs": [
    {
     "name": "stderr",
     "output_type": "stream",
     "text": [
      "  0%|          | 0/12 [00:00<?, ?it/s]"
     ]
    },
    {
     "name": "stdout",
     "output_type": "stream",
     "text": [
      "S: 506 | R: 1057\n",
      "Before removing low variance:  (1563, 9973)\n"
     ]
    },
    {
     "name": "stderr",
     "output_type": "stream",
     "text": [
      "/Users/sbrg/anaconda/lib/python2.7/site-packages/sklearn/utils/__init__.py:93: FutureWarning: Conversion of the second argument of issubdtype from `int` to `np.signedinteger` is deprecated. In future, it will be treated as `np.int64 == np.dtype(int).type`.\n",
      "  if np.issubdtype(mask.dtype, np.int):\n"
     ]
    },
    {
     "name": "stdout",
     "output_type": "stream",
     "text": [
      "After removing low variance:  (1563, 8652)\n",
      "(1047, 3)\n"
     ]
    },
    {
     "name": "stderr",
     "output_type": "stream",
     "text": [
      "  8%|▊         | 1/12 [00:03<00:42,  3.82s/it]"
     ]
    },
    {
     "name": "stdout",
     "output_type": "stream",
     "text": [
      "S: 848 | R: 492\n",
      "Before removing low variance:  (1340, 9973)\n",
      "After removing low variance:  (1340, 8521)\n",
      "(948, 3)\n"
     ]
    },
    {
     "name": "stderr",
     "output_type": "stream",
     "text": [
      " 17%|█▋        | 2/12 [00:07<00:35,  3.55s/it]"
     ]
    },
    {
     "name": "stdout",
     "output_type": "stream",
     "text": [
      "S: 578 | R: 983\n",
      "Before removing low variance:  (1561, 9973)\n",
      "After removing low variance:  (1561, 8651)\n",
      "(1333, 3)\n"
     ]
    },
    {
     "name": "stderr",
     "output_type": "stream",
     "text": [
      " 25%|██▌       | 3/12 [00:10<00:31,  3.55s/it]"
     ]
    },
    {
     "name": "stdout",
     "output_type": "stream",
     "text": [
      "S: 92 | R: 137\n",
      "Before removing low variance:  (229, 9973)\n",
      "After removing low variance:  (229, 6773)\n"
     ]
    },
    {
     "name": "stderr",
     "output_type": "stream",
     "text": [
      " 33%|███▎      | 4/12 [00:12<00:25,  3.15s/it]"
     ]
    },
    {
     "name": "stdout",
     "output_type": "stream",
     "text": [
      "(9, 3)\n",
      "S: 353 | R: 209\n",
      "Before removing low variance:  (562, 9973)\n",
      "After removing low variance:  (562, 7608)\n",
      "(130, 3)\n"
     ]
    },
    {
     "name": "stderr",
     "output_type": "stream",
     "text": [
      " 42%|████▏     | 5/12 [00:15<00:21,  3.04s/it]"
     ]
    },
    {
     "name": "stdout",
     "output_type": "stream",
     "text": [
      "S: 554 | R: 302\n",
      "Before removing low variance:  (856, 9973)\n",
      "After removing low variance:  (856, 7872)\n",
      "(138, 3)\n"
     ]
    },
    {
     "name": "stderr",
     "output_type": "stream",
     "text": [
      " 50%|█████     | 6/12 [00:18<00:18,  3.00s/it]"
     ]
    },
    {
     "name": "stdout",
     "output_type": "stream",
     "text": [
      "S: 295 | R: 80\n",
      "Before removing low variance:  (375, 9973)\n",
      "After removing low variance:  (375, 7302)\n",
      "(135, 3)\n"
     ]
    },
    {
     "name": "stderr",
     "output_type": "stream",
     "text": [
      " 58%|█████▊    | 7/12 [00:20<00:14,  2.93s/it]"
     ]
    },
    {
     "name": "stdout",
     "output_type": "stream",
     "text": [
      "S: 732 | R: 663\n",
      "Before removing low variance:  (1395, 9973)\n",
      "After removing low variance:  (1395, 8405)\n",
      "(899, 3)\n"
     ]
    },
    {
     "name": "stderr",
     "output_type": "stream",
     "text": [
      " 67%|██████▋   | 8/12 [00:23<00:11,  2.95s/it]"
     ]
    },
    {
     "name": "stdout",
     "output_type": "stream",
     "text": [
      "S: 257 | R: 142\n",
      "Before removing low variance:  (399, 9973)\n",
      "After removing low variance:  (399, 6865)\n",
      "(46, 3)\n"
     ]
    },
    {
     "name": "stderr",
     "output_type": "stream",
     "text": [
      " 75%|███████▌  | 9/12 [00:26<00:08,  2.89s/it]"
     ]
    },
    {
     "name": "stdout",
     "output_type": "stream",
     "text": [
      "S: 262 | R: 71\n",
      "Before removing low variance:  (333, 9973)\n",
      "After removing low variance:  (333, 6803)\n"
     ]
    },
    {
     "name": "stderr",
     "output_type": "stream",
     "text": [
      " 83%|████████▎ | 10/12 [00:27<00:05,  2.79s/it]"
     ]
    },
    {
     "name": "stdout",
     "output_type": "stream",
     "text": [
      "(5, 3)\n",
      "S: 550 | R: 278\n",
      "Before removing low variance:  (828, 9973)\n",
      "After removing low variance:  (828, 7840)\n",
      "(176, 3)\n"
     ]
    },
    {
     "name": "stderr",
     "output_type": "stream",
     "text": [
      " 92%|█████████▏| 11/12 [00:30<00:02,  2.78s/it]"
     ]
    },
    {
     "name": "stdout",
     "output_type": "stream",
     "text": [
      "S: 237 | R: 141\n",
      "Before removing low variance:  (378, 9973)\n",
      "After removing low variance:  (378, 7027)\n",
      "(69, 3)\n"
     ]
    },
    {
     "name": "stderr",
     "output_type": "stream",
     "text": [
      "100%|██████████| 12/12 [00:32<00:00,  2.75s/it]\n"
     ]
    }
   ],
   "source": [
    "# writer = pd.ExcelWriter('Supplementary_files/Chi2_allele_AMR_associations.xlsx')\n",
    "\n",
    "writer = pd.ExcelWriter(SUPP_DIR+'DataFile01_b.xlsx')\n",
    "\n",
    "for drug_name in tqdm([\"isoniazid\", \"ethambutol\", \"rifampicin\", \"pyrazinamide\", \"ethionamide\", \n",
    "                  \"ofloxacin\", \"4-aminosalicylic_acid\", \"streptomycin\", \"amikacin\",\"cycloserine\", \n",
    "                  \"kanamycin\", \"capreomycin\"]): # \", \"ethionamide\", \"ofloxacin\", \"amikacin\" \"4-aminosalicylic_acid\"\n",
    "    \n",
    "    chi2_test = pd.DataFrame()\n",
    "    \n",
    "    if drug_name == \"MDR\" or drug_name == \"XDR\":\n",
    "        X1, y1 = get_MDR_training(resistance_data, data_to_plot, drug_name)\n",
    "    else:\n",
    "        y1, X1 = get_target_data(data_to_plot, resistance_data, drug_name)\n",
    "        # X1 = remove_key_antibiotic_clusters(X1, drug_name)\n",
    "    \n",
    "    print \"Before removing low variance: \", X1.shape\n",
    "    selector = VarianceThreshold(threshold=.01)\n",
    "    selector.fit_transform(X1)\n",
    "    X1 = X1[X1.columns[selector.get_support()]].copy()\n",
    "    print \"After removing low variance: \", X1.shape\n",
    "    \n",
    "    chi2_test = pd.DataFrame(list(chi2(X1, y1)))\n",
    "    chi2_test.columns = X1.columns\n",
    "    chi2_test = chi2_test.sort_values([0, 1], axis=1, ascending=False).T\n",
    "    chi2_test.columns = [\"chi2\", \"pVal\"]\n",
    "    \n",
    "    # bonferroni multiple-testing correction\n",
    "    rejected_list, pvalue_corrected_list, alphaC, alphacBonf = statsmodels.sandbox.stats.multicomp.multipletests(chi2_test[\"pVal\"], \n",
    "                                                                                          alpha=0.005, method='bonferroni', is_sorted=False)\n",
    "\n",
    "    chi2_test_corrected = chi2_test[rejected_list].copy()\n",
    "    chi2_test_corrected[\"corrected_pVal\"] = pvalue_corrected_list[rejected_list]\n",
    "    print chi2_test_corrected.shape\n",
    "    \n",
    "    chi2_test_top50_df = pd.DataFrame()\n",
    "    for allele, row in chi2_test_corrected.iloc[:40, :].iterrows():\n",
    "        cluster, allele_id = allele.split(\"_\")[0].replace(\"ter\", \"ter \"), allele.split(\"_\")[1]\n",
    "        chi2_statistic = row[\"chi2\"]\n",
    "        pVal_statistic = row[\"pVal\"]\n",
    "        pVal_corrected_stat = row[\"corrected_pVal\"]\n",
    "        # print cluster, svm_weight_score\n",
    "        cluster_series_df = clust_info_df.loc[cluster, :]\n",
    "        cluster_series_df[\"chi2\"] = chi2_statistic\n",
    "        cluster_series_df[\"pVal\"] = pVal_statistic\n",
    "        cluster_series_df[\"pVal_corrected\"] = pVal_corrected_stat\n",
    "        cluster_series_df.drop([\"name_to_rv\"], inplace=True)\n",
    "        chi2_test_top50_df = chi2_test_top50_df.append(cluster_series_df)\n",
    "    \n",
    "    new_column_order = [\"chi2\", \"pVal\",\"pVal_corrected\", \"clust_to_rv\", \"gene_name\", \"product\", \"cog\", \"count\",  \"ortho\", \n",
    "                        \"pan\",  \"refseq\", \"score\"]\n",
    "    chi2_test_top50_df = chi2_test_top50_df[new_column_order]\n",
    "    \n",
    "    chi2_test_top50_df.to_excel(writer, sheet_name = drug_name+\"_chi2\", index=True)\n",
    "    \n",
    "writer.save()"
   ]
  },
  {
   "cell_type": "markdown",
   "metadata": {},
   "source": [
    "### ANOVA"
   ]
  },
  {
   "cell_type": "code",
   "execution_count": 13,
   "metadata": {
    "scrolled": true
   },
   "outputs": [
    {
     "name": "stderr",
     "output_type": "stream",
     "text": [
      "  0%|          | 0/12 [00:00<?, ?it/s]"
     ]
    },
    {
     "name": "stdout",
     "output_type": "stream",
     "text": [
      "S: 506 | R: 1057\n",
      "Before removing low variance:  (1563, 9973)\n",
      "After removing low variance:  (1563, 8652)\n",
      "(1560, 3)\n"
     ]
    },
    {
     "name": "stderr",
     "output_type": "stream",
     "text": [
      "  8%|▊         | 1/12 [00:04<00:46,  4.25s/it]"
     ]
    },
    {
     "name": "stdout",
     "output_type": "stream",
     "text": [
      "S: 848 | R: 492\n",
      "Before removing low variance:  (1340, 9973)\n",
      "After removing low variance:  (1340, 8521)\n",
      "(1550, 3)\n"
     ]
    },
    {
     "name": "stderr",
     "output_type": "stream",
     "text": [
      " 17%|█▋        | 2/12 [00:07<00:38,  3.89s/it]"
     ]
    },
    {
     "name": "stdout",
     "output_type": "stream",
     "text": [
      "S: 578 | R: 983\n",
      "Before removing low variance:  (1561, 9973)\n",
      "After removing low variance:  (1561, 8651)\n",
      "(1827, 3)\n"
     ]
    },
    {
     "name": "stderr",
     "output_type": "stream",
     "text": [
      " 25%|██▌       | 3/12 [00:11<00:34,  3.79s/it]"
     ]
    },
    {
     "name": "stdout",
     "output_type": "stream",
     "text": [
      "S: 92 | R: 137\n",
      "Before removing low variance:  (229, 9973)\n",
      "After removing low variance:  (229, 6773)\n",
      "(101, 3)\n"
     ]
    },
    {
     "name": "stderr",
     "output_type": "stream",
     "text": [
      " 33%|███▎      | 4/12 [00:13<00:27,  3.45s/it]"
     ]
    },
    {
     "name": "stdout",
     "output_type": "stream",
     "text": [
      "S: 353 | R: 209\n",
      "Before removing low variance:  (562, 9973)\n",
      "After removing low variance:  (562, 7608)\n",
      "(235, 3)\n"
     ]
    },
    {
     "name": "stderr",
     "output_type": "stream",
     "text": [
      " 42%|████▏     | 5/12 [00:16<00:23,  3.30s/it]"
     ]
    },
    {
     "name": "stdout",
     "output_type": "stream",
     "text": [
      "S: 554 | R: 302\n",
      "Before removing low variance:  (856, 9973)\n",
      "After removing low variance:  (856, 7872)\n",
      "(230, 3)\n"
     ]
    },
    {
     "name": "stderr",
     "output_type": "stream",
     "text": [
      " 50%|█████     | 6/12 [00:19<00:19,  3.27s/it]"
     ]
    },
    {
     "name": "stdout",
     "output_type": "stream",
     "text": [
      "S: 295 | R: 80\n",
      "Before removing low variance:  (375, 9973)\n",
      "After removing low variance:  (375, 7302)\n",
      "(233, 3)\n"
     ]
    },
    {
     "name": "stderr",
     "output_type": "stream",
     "text": [
      " 58%|█████▊    | 7/12 [00:22<00:15,  3.15s/it]"
     ]
    },
    {
     "name": "stdout",
     "output_type": "stream",
     "text": [
      "S: 732 | R: 663\n",
      "Before removing low variance:  (1395, 9973)\n",
      "After removing low variance:  (1395, 8405)\n",
      "(1466, 3)\n"
     ]
    },
    {
     "name": "stderr",
     "output_type": "stream",
     "text": [
      " 67%|██████▋   | 8/12 [00:25<00:12,  3.16s/it]"
     ]
    },
    {
     "name": "stdout",
     "output_type": "stream",
     "text": [
      "S: 257 | R: 142\n",
      "Before removing low variance:  (399, 9973)\n",
      "After removing low variance:  (399, 6865)\n",
      "(255, 3)\n"
     ]
    },
    {
     "name": "stderr",
     "output_type": "stream",
     "text": [
      " 75%|███████▌  | 9/12 [00:27<00:09,  3.11s/it]"
     ]
    },
    {
     "name": "stdout",
     "output_type": "stream",
     "text": [
      "S: 262 | R: 71\n",
      "Before removing low variance:  (333, 9973)\n",
      "After removing low variance:  (333, 6803)\n",
      "(20, 3)\n"
     ]
    },
    {
     "name": "stderr",
     "output_type": "stream",
     "text": [
      " 83%|████████▎ | 10/12 [00:30<00:06,  3.01s/it]"
     ]
    },
    {
     "name": "stdout",
     "output_type": "stream",
     "text": [
      "S: 550 | R: 278\n",
      "Before removing low variance:  (828, 9973)\n",
      "After removing low variance:  (828, 7840)\n",
      "(427, 3)\n"
     ]
    },
    {
     "name": "stderr",
     "output_type": "stream",
     "text": [
      " 92%|█████████▏| 11/12 [00:33<00:03,  3.00s/it]"
     ]
    },
    {
     "name": "stdout",
     "output_type": "stream",
     "text": [
      "S: 237 | R: 141\n",
      "Before removing low variance:  (378, 9973)\n",
      "After removing low variance:  (378, 7027)\n",
      "(193, 3)\n"
     ]
    },
    {
     "name": "stderr",
     "output_type": "stream",
     "text": [
      "100%|██████████| 12/12 [00:35<00:00,  2.97s/it]\n"
     ]
    }
   ],
   "source": [
    "# writer = pd.ExcelWriter('Supplementary_files/ANOVA_Ftest_allele_AMR_associations.xlsx')\n",
    "writer = pd.ExcelWriter(SUPP_DIR+'DataFile01_c.xlsx')\n",
    "\n",
    "for drug_name in tqdm([\"isoniazid\", \"ethambutol\", \"rifampicin\", \"pyrazinamide\", \"ethionamide\", \n",
    "                  \"ofloxacin\", \"4-aminosalicylic_acid\", \"streptomycin\", \"amikacin\",\"cycloserine\", \n",
    "                  \"kanamycin\", \"capreomycin\"]): \n",
    "    ANOVA_test = pd.DataFrame()\n",
    "    \n",
    "    if drug_name == \"MDR\" or drug_name == \"XDR\":\n",
    "        X1, y1 = get_MDR_training(resistance_data, data_to_plot, drug_name)\n",
    "    else:\n",
    "        y1, X1 = get_target_data(data_to_plot, resistance_data, drug_name)\n",
    "        # X1 = remove_key_antibiotic_clusters(X1, drug_name)\n",
    "    \n",
    "    print \"Before removing low variance: \", X1.shape\n",
    "    selector = VarianceThreshold(threshold=.01)\n",
    "    selector.fit_transform(X1)\n",
    "    X1 = X1[X1.columns[selector.get_support()]].copy()\n",
    "    print \"After removing low variance: \", X1.shape\n",
    "    \n",
    "    # chi2_test = pd.DataFrame(chi2(X1, y1)[0]).T\n",
    "    ANOVA_test = pd.DataFrame(list(f_classif(X1, y1)))\n",
    "    ANOVA_test.columns = X1.columns\n",
    "    ANOVA_test = ANOVA_test.sort_values([0, 1], axis=1, ascending=False).T\n",
    "    ANOVA_test.columns = [\"F_value\", \"pVal\"]\n",
    "    \n",
    "    # bonferroni multiple-testing correction\n",
    "    rejected_list, pvalue_corrected_list, alphaC, alphacBonf = statsmodels.sandbox.stats.multicomp.multipletests(ANOVA_test[\"pVal\"], \n",
    "                                                                                          alpha=0.005, method='bonferroni', is_sorted=False)\n",
    "\n",
    "    ANOVA_test_corrected = ANOVA_test[rejected_list].copy()\n",
    "    ANOVA_test_corrected[\"corrected_pVal\"] = pvalue_corrected_list[rejected_list]\n",
    "    print ANOVA_test_corrected.shape\n",
    "    \n",
    "    ANOVA_test_top50_df = pd.DataFrame()\n",
    "    for allele, row in ANOVA_test_corrected.iloc[:40, :].iterrows():\n",
    "        cluster, allele_id = allele.split(\"_\")[0].replace(\"ter\", \"ter \"), allele.split(\"_\")[1]\n",
    "        FVal_statistic = row[\"F_value\"]\n",
    "        pVal_statistic = row[\"pVal\"]\n",
    "        pVal_corrected_stat = row[\"corrected_pVal\"]\n",
    "        # print cluster, svm_weight_score\n",
    "        cluster_series_df = clust_info_df.loc[cluster, :]\n",
    "        cluster_series_df[\"F_value\"] = FVal_statistic\n",
    "        cluster_series_df[\"pVal\"] = pVal_statistic\n",
    "        cluster_series_df[\"pVal_corrected\"] = pVal_corrected_stat\n",
    "        cluster_series_df.drop([\"name_to_rv\"], inplace=True)\n",
    "        ANOVA_test_top50_df = ANOVA_test_top50_df.append(cluster_series_df)\n",
    "    \n",
    "    new_column_order = [\"F_value\", \"pVal\",\"pVal_corrected\", \"clust_to_rv\", \"gene_name\", \"product\", \"cog\", \"count\",  \"ortho\", \n",
    "                        \"pan\",  \"refseq\", \"score\"]\n",
    "    ANOVA_test_top50_df = ANOVA_test_top50_df[new_column_order]\n",
    "    \n",
    "    ANOVA_test_top50_df.to_excel(writer, sheet_name = drug_name+\"_ANOVA\", index=True)\n",
    "    \n",
    "writer.save()"
   ]
  },
  {
   "cell_type": "markdown",
   "metadata": {},
   "source": [
    "## Write all three associations types to a single file!"
   ]
  },
  {
   "cell_type": "code",
   "execution_count": 14,
   "metadata": {
    "collapsed": true
   },
   "outputs": [
    {
     "name": "stderr",
     "output_type": "stream",
     "text": [
      "100%|██████████| 12/12 [00:05<00:00,  2.05it/s]\n"
     ]
    }
   ],
   "source": [
    "writer = pd.ExcelWriter(FINAL_SUPP_DIR+'Supplementary_Data_File_1.xlsx')\n",
    "for drug_name in tqdm([\"isoniazid\", \n",
    "                  \"ethambutol\", \"rifampicin\", \"pyrazinamide\", \"ethionamide\", \n",
    "                  \"ofloxacin\", \"4-aminosalicylic_acid\", \"streptomycin\", \"amikacin\",\"cycloserine\", \n",
    "                  \"kanamycin\", \"capreomycin\"]): \n",
    "    \n",
    "#     if drug_name == \"4-aminosalicylic_acid\":\n",
    "#         MI_excel_df = pd.read_excel(\"DataFile01_a.xlsx\", sheet_name=\"MI_4amniosalicylic\")\n",
    "#     else:\n",
    "    MI_excel_df = pd.read_excel(SUPP_DIR+\"DataFile01_a.xlsx\", sheet_name=drug_name+\"_MI\")\n",
    "        \n",
    "    Chi2_excel_df = pd.read_excel(SUPP_DIR+\"DataFile01_b.xlsx\", sheet_name=drug_name+\"_chi2\")\n",
    "    ANOVA_excel_df = pd.read_excel(SUPP_DIR+\"DataFile01_c.xlsx\", sheet_name=drug_name+\"_ANOVA\")\n",
    "    \n",
    "    MI_cols = [\"MI sum\", \"clust_to_rv\",\"gene_name\",\"product\"]\n",
    "    chi2_cols = [\"chi2\",\"pVal\",\"pVal_corrected\",\"clust_to_rv\",\"gene_name\",\"product\"]\n",
    "    ANOVA_cols = [\"F_value\",\"pVal\",\"pVal_corrected\",\"clust_to_rv\",\"gene_name\",\"product\"]\n",
    "    \n",
    "    sheet_header_str = [\"\",\"Mutual Information\"] + [\"\"]*5 + [\"Chi-squared\"] + [\"\"]*7 + [\"ANOVA F-test\"]\n",
    "    pd.DataFrame(sheet_header_str, columns=[\"Association\"]).T.to_excel(writer,sheet_name = drug_name, \n",
    "                                                                       header=False,\n",
    "                                                                       index=False, startrow=0)\n",
    "    MI_excel_df[MI_cols].to_excel(writer, sheet_name = drug_name, index=True, startrow=1, startcol=1)\n",
    "    Chi2_excel_df[chi2_cols].to_excel(writer, sheet_name = drug_name, index=True, startrow=1, startcol=7)\n",
    "    ANOVA_excel_df[ANOVA_cols].to_excel(writer, sheet_name = drug_name, index=True, startrow=1, startcol=15)\n",
    "    \n",
    "writer.save()"
   ]
  },
  {
   "cell_type": "markdown",
   "metadata": {},
   "source": [
    "## Check if primary genes are in MI, ANOVA, or ANOVA F-test\n",
    "\n",
    "- NOTE - embC alleles were grouped in the embB cluster. Thus embB is sufficient in this case."
   ]
  },
  {
   "cell_type": "code",
   "execution_count": 40,
   "metadata": {},
   "outputs": [],
   "source": [
    "primary_amr_genes = {\n",
    "    \"isoniazid\": [\"Rv1908c\", \"Rv1484\", \"Rv1483\"], #katG, inhA, fabG1\n",
    "    \"rifampicin\": [\"Rv0667\", \"Rv0668\", \"Rv3238c\"], #rpoB, rpoC, Rv3238c\n",
    "    \"ethambutol\": [\"Rv3795\",  \"Rv3806c\", \"Rv1267c\"], #embB, embC, ubiA, embR \"Rv3793\", - embC\n",
    "    \"pyrazinamide\": [\"Rv2043c\"], #pncA\n",
    "    \"streptomycin\": [\"Rv0682\", \"Rv3919c\"], #rpsL, gidB\n",
    "    \"ofloxacin\": [\"Rv0006\"], #gyrA, gyrB\n",
    "    \"4-aminosalicylic_acid\": [\"Rv2447c\", \"Rv2764c\"], #folC, thyA\n",
    "    \"ethionamide\": [\"Rv3854c\",\"Rv1484\"], #ethA, inhA\n",
    "}"
   ]
  },
  {
   "cell_type": "code",
   "execution_count": 43,
   "metadata": {},
   "outputs": [
    {
     "name": "stderr",
     "output_type": "stream",
     "text": [
      "  8%|▊         | 1/12 [00:00<00:04,  2.28it/s]"
     ]
    },
    {
     "name": "stdout",
     "output_type": "stream",
     "text": [
      "isoniazid ---\n",
      "Rv1908c\n",
      "    in Mutual information associations\n",
      "    in CHI-squared associations\n",
      "    in ANOVA associations\n",
      "Rv1484\n",
      "Rv1483\n"
     ]
    },
    {
     "name": "stderr",
     "output_type": "stream",
     "text": [
      " 17%|█▋        | 2/12 [00:00<00:04,  2.30it/s]"
     ]
    },
    {
     "name": "stdout",
     "output_type": "stream",
     "text": [
      "ethambutol ---\n",
      "Rv3795\n",
      "    in Mutual information associations\n",
      "    in CHI-squared associations\n",
      "    in ANOVA associations\n",
      "Rv3806c\n",
      "Rv1267c\n"
     ]
    },
    {
     "name": "stderr",
     "output_type": "stream",
     "text": [
      " 25%|██▌       | 3/12 [00:01<00:03,  2.30it/s]"
     ]
    },
    {
     "name": "stdout",
     "output_type": "stream",
     "text": [
      "rifampicin ---\n",
      "Rv0667\n",
      "    in Mutual information associations\n",
      "    in CHI-squared associations\n",
      "    in ANOVA associations\n",
      "Rv0668\n",
      "Rv3238c\n"
     ]
    },
    {
     "name": "stderr",
     "output_type": "stream",
     "text": [
      " 33%|███▎      | 4/12 [00:01<00:03,  2.32it/s]"
     ]
    },
    {
     "name": "stdout",
     "output_type": "stream",
     "text": [
      "pyrazinamide ---\n",
      "Rv2043c\n",
      "    in Mutual information associations\n",
      "    in CHI-squared associations\n",
      "    in ANOVA associations\n"
     ]
    },
    {
     "name": "stderr",
     "output_type": "stream",
     "text": [
      " 42%|████▏     | 5/12 [00:02<00:03,  2.31it/s]"
     ]
    },
    {
     "name": "stdout",
     "output_type": "stream",
     "text": [
      "ethionamide ---\n",
      "Rv3854c\n",
      "Rv1484\n"
     ]
    },
    {
     "name": "stderr",
     "output_type": "stream",
     "text": [
      " 50%|█████     | 6/12 [00:02<00:02,  2.32it/s]"
     ]
    },
    {
     "name": "stdout",
     "output_type": "stream",
     "text": [
      "ofloxacin ---\n",
      "Rv0006\n",
      "    in Mutual information associations\n",
      "    in CHI-squared associations\n",
      "    in ANOVA associations\n"
     ]
    },
    {
     "name": "stderr",
     "output_type": "stream",
     "text": [
      " 58%|█████▊    | 7/12 [00:03<00:02,  2.31it/s]"
     ]
    },
    {
     "name": "stdout",
     "output_type": "stream",
     "text": [
      "4-aminosalicylic_acid ---\n",
      "Rv2447c\n",
      "Rv2764c\n"
     ]
    },
    {
     "name": "stderr",
     "output_type": "stream",
     "text": [
      " 67%|██████▋   | 8/12 [00:03<00:01,  2.31it/s]"
     ]
    },
    {
     "name": "stdout",
     "output_type": "stream",
     "text": [
      "streptomycin ---\n",
      "Rv0682\n",
      "    in Mutual information associations\n",
      "    in CHI-squared associations\n",
      "    in ANOVA associations\n",
      "Rv3919c\n"
     ]
    },
    {
     "name": "stderr",
     "output_type": "stream",
     "text": [
      "100%|██████████| 12/12 [00:05<00:00,  2.33it/s]\n"
     ]
    }
   ],
   "source": [
    "no_associations = []\n",
    "for drug_name in tqdm([\"isoniazid\", \n",
    "                  \"ethambutol\", \"rifampicin\", \"pyrazinamide\", \"ethionamide\", \n",
    "                  \"ofloxacin\", \"4-aminosalicylic_acid\", \"streptomycin\", \"amikacin\",\"cycloserine\", \n",
    "                  \"kanamycin\", \"capreomycin\"]): \n",
    "    \n",
    "    MI_excel_df = pd.read_excel(SUPP_DIR+\"DataFile01_a.xlsx\", sheet_name=drug_name+\"_MI\")\n",
    "    Chi2_excel_df = pd.read_excel(SUPP_DIR+\"DataFile01_b.xlsx\", sheet_name=drug_name+\"_chi2\")\n",
    "    ANOVA_excel_df = pd.read_excel(SUPP_DIR+\"DataFile01_c.xlsx\", sheet_name=drug_name+\"_ANOVA\")\n",
    "    if drug_name in primary_amr_genes.keys():\n",
    "        print drug_name, \"---\"\n",
    "        for key_gene in primary_amr_genes[drug_name]:  \n",
    "            bool_test=0\n",
    "            print key_gene\n",
    "            if key_gene in MI_excel_df[\"clust_to_rv\"].unique().astype(str).tolist():\n",
    "                print \"    in Mutual information associations\"\n",
    "                bool_test=1\n",
    "\n",
    "            if key_gene in Chi2_excel_df[\"clust_to_rv\"].unique().astype(str).tolist():\n",
    "                print \"    in CHI-squared associations\"\n",
    "                bool_test=1\n",
    "\n",
    "            if key_gene in ANOVA_excel_df[\"clust_to_rv\"].unique().astype(str).tolist():\n",
    "                print \"    in ANOVA associations\"\n",
    "                bool_test=1\n",
    "\n",
    "            if bool_test==0:\n",
    "                # print \"--- NO ASSOCIATION OF\", key_gene, \"FOUND\"\n",
    "                no_associations.append((drug_name, key_gene))"
   ]
  },
  {
   "cell_type": "code",
   "execution_count": 44,
   "metadata": {},
   "outputs": [
    {
     "data": {
      "text/plain": [
       "[('isoniazid', 'Rv1484'),\n",
       " ('isoniazid', 'Rv1483'),\n",
       " ('ethambutol', 'Rv3806c'),\n",
       " ('ethambutol', 'Rv1267c'),\n",
       " ('rifampicin', 'Rv0668'),\n",
       " ('rifampicin', 'Rv3238c'),\n",
       " ('ethionamide', 'Rv3854c'),\n",
       " ('ethionamide', 'Rv1484'),\n",
       " ('4-aminosalicylic_acid', 'Rv2447c'),\n",
       " ('4-aminosalicylic_acid', 'Rv2764c'),\n",
       " ('streptomycin', 'Rv3919c')]"
      ]
     },
     "execution_count": 44,
     "metadata": {},
     "output_type": "execute_result"
    }
   ],
   "source": [
    "no_associations"
   ]
  }
 ],
 "metadata": {
  "kernelspec": {
   "display_name": "Python 2",
   "language": "python",
   "name": "python2"
  },
  "language_info": {
   "codemirror_mode": {
    "name": "ipython",
    "version": 2
   },
   "file_extension": ".py",
   "mimetype": "text/x-python",
   "name": "python",
   "nbconvert_exporter": "python",
   "pygments_lexer": "ipython2",
   "version": "2.7.14"
  }
 },
 "nbformat": 4,
 "nbformat_minor": 2
}
